{
 "cells": [
  {
   "cell_type": "markdown",
   "metadata": {},
   "source": [
    "Data preparation (10 points)\n",
    "    Data exploration (10 points)\n",
    "    Data visualization (10 points)\n",
    "    Data scaling and comparisons (10 points)\n",
    "    Insights from analysis (10 points)"
   ]
  },
  {
   "cell_type": "code",
   "execution_count": 2,
   "metadata": {},
   "outputs": [],
   "source": [
    "import numpy as np\n",
    "import pandas as pd\n",
    "import seaborn as sns\n",
    "from matplotlib import pyplot as plt\n",
    "from matplotlib import style"
   ]
  },
  {
   "cell_type": "code",
   "execution_count": 3,
   "metadata": {},
   "outputs": [],
   "source": [
    "COVID_df= pd.read_csv(\"COVID-19-2020-06-20.csv\")"
   ]
  },
  {
   "cell_type": "code",
   "execution_count": 5,
   "metadata": {},
   "outputs": [
    {
     "name": "stdout",
     "output_type": "stream",
     "text": [
      "(24344, 11)\n"
     ]
    }
   ],
   "source": [
    "# Data preparation and exploration (10 points)\n",
    "print(COVID_df.shape)"
   ]
  },
  {
   "cell_type": "markdown",
   "metadata": {},
   "source": [
    "From the above information, we know there are 11 different categories and 24,344 observation."
   ]
  },
  {
   "cell_type": "code",
   "execution_count": 7,
   "metadata": {},
   "outputs": [
    {
     "name": "stdout",
     "output_type": "stream",
     "text": [
      "<class 'pandas.core.frame.DataFrame'>\n",
      "RangeIndex: 24344 entries, 0 to 24343\n",
      "Data columns (total 11 columns):\n",
      " #   Column                   Non-Null Count  Dtype  \n",
      "---  ------                   --------------  -----  \n",
      " 0   dateRep                  24344 non-null  object \n",
      " 1   day                      24344 non-null  int64  \n",
      " 2   month                    24344 non-null  int64  \n",
      " 3   year                     24344 non-null  int64  \n",
      " 4   cases                    24344 non-null  int64  \n",
      " 5   deaths                   24343 non-null  float64\n",
      " 6   countriesAndTerritories  24344 non-null  object \n",
      " 7   geoId                    24246 non-null  object \n",
      " 8   countryterritoryCode     24344 non-null  object \n",
      " 9   popData2019              24344 non-null  int64  \n",
      " 10  continentExp             24344 non-null  object \n",
      "dtypes: float64(1), int64(5), object(5)\n",
      "memory usage: 2.0+ MB\n"
     ]
    }
   ],
   "source": [
    "COVID_df.info()"
   ]
  },
  {
   "cell_type": "markdown",
   "metadata": {},
   "source": [
    "From the information above, we can see there is non-nullvalue. So, we don't have to deal with missing data on this data-set."
   ]
  },
  {
   "cell_type": "code",
   "execution_count": 13,
   "metadata": {},
   "outputs": [
    {
     "data": {
      "text/html": [
       "<div>\n",
       "<style scoped>\n",
       "    .dataframe tbody tr th:only-of-type {\n",
       "        vertical-align: middle;\n",
       "    }\n",
       "\n",
       "    .dataframe tbody tr th {\n",
       "        vertical-align: top;\n",
       "    }\n",
       "\n",
       "    .dataframe thead th {\n",
       "        text-align: right;\n",
       "    }\n",
       "</style>\n",
       "<table border=\"1\" class=\"dataframe\">\n",
       "  <thead>\n",
       "    <tr style=\"text-align: right;\">\n",
       "      <th></th>\n",
       "      <th>day</th>\n",
       "      <th>month</th>\n",
       "      <th>year</th>\n",
       "      <th>cases</th>\n",
       "      <th>deaths</th>\n",
       "      <th>popData2019</th>\n",
       "    </tr>\n",
       "  </thead>\n",
       "  <tbody>\n",
       "    <tr>\n",
       "      <th>count</th>\n",
       "      <td>24344.000000</td>\n",
       "      <td>24344.000000</td>\n",
       "      <td>24344.000000</td>\n",
       "      <td>24344.000000</td>\n",
       "      <td>24343.000000</td>\n",
       "      <td>2.434400e+04</td>\n",
       "    </tr>\n",
       "    <tr>\n",
       "      <th>mean</th>\n",
       "      <td>15.539312</td>\n",
       "      <td>4.056482</td>\n",
       "      <td>2019.997289</td>\n",
       "      <td>354.657328</td>\n",
       "      <td>18.977776</td>\n",
       "      <td>4.794805e+07</td>\n",
       "    </tr>\n",
       "    <tr>\n",
       "      <th>std</th>\n",
       "      <td>8.685040</td>\n",
       "      <td>1.528238</td>\n",
       "      <td>0.051999</td>\n",
       "      <td>2001.858275</td>\n",
       "      <td>122.140325</td>\n",
       "      <td>1.701245e+08</td>\n",
       "    </tr>\n",
       "    <tr>\n",
       "      <th>min</th>\n",
       "      <td>1.000000</td>\n",
       "      <td>1.000000</td>\n",
       "      <td>2019.000000</td>\n",
       "      <td>-2461.000000</td>\n",
       "      <td>0.000000</td>\n",
       "      <td>3.802000e+03</td>\n",
       "    </tr>\n",
       "    <tr>\n",
       "      <th>25%</th>\n",
       "      <td>8.000000</td>\n",
       "      <td>3.000000</td>\n",
       "      <td>2020.000000</td>\n",
       "      <td>0.000000</td>\n",
       "      <td>0.000000</td>\n",
       "      <td>1.920917e+06</td>\n",
       "    </tr>\n",
       "    <tr>\n",
       "      <th>50%</th>\n",
       "      <td>15.000000</td>\n",
       "      <td>4.000000</td>\n",
       "      <td>2020.000000</td>\n",
       "      <td>4.000000</td>\n",
       "      <td>0.000000</td>\n",
       "      <td>9.321023e+06</td>\n",
       "    </tr>\n",
       "    <tr>\n",
       "      <th>75%</th>\n",
       "      <td>23.000000</td>\n",
       "      <td>5.000000</td>\n",
       "      <td>2020.000000</td>\n",
       "      <td>64.000000</td>\n",
       "      <td>1.000000</td>\n",
       "      <td>3.194979e+07</td>\n",
       "    </tr>\n",
       "    <tr>\n",
       "      <th>max</th>\n",
       "      <td>31.000000</td>\n",
       "      <td>12.000000</td>\n",
       "      <td>2020.000000</td>\n",
       "      <td>54771.000000</td>\n",
       "      <td>4928.000000</td>\n",
       "      <td>1.433784e+09</td>\n",
       "    </tr>\n",
       "  </tbody>\n",
       "</table>\n",
       "</div>"
      ],
      "text/plain": [
       "                day         month          year         cases        deaths  \\\n",
       "count  24344.000000  24344.000000  24344.000000  24344.000000  24343.000000   \n",
       "mean      15.539312      4.056482   2019.997289    354.657328     18.977776   \n",
       "std        8.685040      1.528238      0.051999   2001.858275    122.140325   \n",
       "min        1.000000      1.000000   2019.000000  -2461.000000      0.000000   \n",
       "25%        8.000000      3.000000   2020.000000      0.000000      0.000000   \n",
       "50%       15.000000      4.000000   2020.000000      4.000000      0.000000   \n",
       "75%       23.000000      5.000000   2020.000000     64.000000      1.000000   \n",
       "max       31.000000     12.000000   2020.000000  54771.000000   4928.000000   \n",
       "\n",
       "        popData2019  \n",
       "count  2.434400e+04  \n",
       "mean   4.794805e+07  \n",
       "std    1.701245e+08  \n",
       "min    3.802000e+03  \n",
       "25%    1.920917e+06  \n",
       "50%    9.321023e+06  \n",
       "75%    3.194979e+07  \n",
       "max    1.433784e+09  "
      ]
     },
     "execution_count": 13,
     "metadata": {},
     "output_type": "execute_result"
    }
   ],
   "source": [
    "COVID_df.describe()"
   ]
  },
  {
   "cell_type": "markdown",
   "metadata": {},
   "source": [
    "When we look at the above data, we can not find any issue with the above categories besides the cases. When we look at the cases data, the max cases happened in one day is 54,771. However, there are some negative cases happened in one day, which is incorrect. There shouldn't have any negative cases happened in one day. In the cases category, the minimize case should be 0. We have two choices right now, 1. change the negative cases to positive, or 2. delete the negative cases because it is incorrect. Before making any decision, let us take a look at the negative cases. "
   ]
  },
  {
   "cell_type": "code",
   "execution_count": 58,
   "metadata": {},
   "outputs": [
    {
     "name": "stdout",
     "output_type": "stream",
     "text": [
      "         dateRep  day  month  year  cases  deaths countriesAndTerritories  \\\n",
      "2594   5/20/2020   20      5  2020   -209     0.0                   Benin   \n",
      "6694   5/12/2020   12      5  2020    -50    18.0                 Ecuador   \n",
      "6697    5/9/2020    9      5  2020  -1480    50.0                 Ecuador   \n",
      "6699    5/7/2020    7      5  2020  -2461    49.0                 Ecuador   \n",
      "8090    6/3/2020    3      6  2020   -766   107.0                  France   \n",
      "11577  6/20/2020   20      6  2020   -148    47.0                   Italy   \n",
      "13512  4/29/2020   29      4  2020   -105     3.0               Lithuania   \n",
      "18233   5/3/2020    3      5  2020   -161    16.0                Portugal   \n",
      "19305  5/11/2020   11      5  2020     -9     0.0              San_Marino   \n",
      "20862  5/25/2020   25      5  2020   -372     NaN                   Spain   \n",
      "20898  4/19/2020   19      4  2020   -713   410.0                   Spain   \n",
      "22700   6/2/2020    2      6  2020     -1     0.0                  Uganda   \n",
      "22712  5/21/2020   21      5  2020   -115     0.0                  Uganda   \n",
      "23069  5/21/2020   21      5  2020   -525   363.0          United_Kingdom   \n",
      "\n",
      "      geoId countryterritoryCode  popData2019 continentExp  \n",
      "2594     BJ                  BEN     11801151       Africa  \n",
      "6694     EC                  ECU     17373657      America  \n",
      "6697     EC                  ECU     17373657      America  \n",
      "6699     EC                  ECU     17373657      America  \n",
      "8090     FR                  FRA     67012883       Europe  \n",
      "11577    IT                  ITA     60550092       Europe  \n",
      "13512    LT                  LTU      2759631       Europe  \n",
      "18233    PT                  PRT     10276617       Europe  \n",
      "19305    SM                  SMR        33864       Europe  \n",
      "20862    ES                  ESP     46937060       Europe  \n",
      "20898    ES                  ESP     46937060       Europe  \n",
      "22700    UG                  UGA     44269587       Africa  \n",
      "22712    UG                  UGA     44269587       Africa  \n",
      "23069    UK                  GBR     66647112       Europe  \n"
     ]
    }
   ],
   "source": [
    "COVID_df_neg = COVID_df[COVID_df['cases'] < 0]\n",
    "print(COVID_df_neg)"
   ]
  },
  {
   "cell_type": "markdown",
   "metadata": {},
   "source": [
    "Form the above information, we can see some negative cases have death data. Therefore, I will keep the data and change the negative cases into positive caess."
   ]
  },
  {
   "cell_type": "code",
   "execution_count": 62,
   "metadata": {},
   "outputs": [],
   "source": [
    "COVID_df.at[[2594, 6694, 6697, 6699, 8090, 11577, 13512, 18233, 19305, 20862, 20898, 22700, 22712, 23069], 'cases'] \n",
    "= (209, 50, 1480, 2461, 766, 148, 105, 161, 9, 372, 713, 1, 115, 525)"
   ]
  },
  {
   "cell_type": "markdown",
   "metadata": {},
   "source": [
    "Once replace the negative cases to positive case, we need to check the cases data again to see whether we have been suceesffully updated it, or not. "
   ]
  },
  {
   "cell_type": "code",
   "execution_count": 63,
   "metadata": {},
   "outputs": [
    {
     "data": {
      "text/plain": [
       "0"
      ]
     },
     "execution_count": 63,
     "metadata": {},
     "output_type": "execute_result"
    }
   ],
   "source": [
    "COVID_df['cases'].min()"
   ]
  },
  {
   "cell_type": "markdown",
   "metadata": {},
   "source": [
    "From the above, we can see the min cases is 0. "
   ]
  },
  {
   "cell_type": "code",
   "execution_count": 80,
   "metadata": {},
   "outputs": [
    {
     "name": "stdout",
     "output_type": "stream",
     "text": [
      "         dateRep  day  month  year  cases  deaths countriesAndTerritories  \\\n",
      "0      6/20/2020   20      6  2020    346     2.0             Afghanistan   \n",
      "1      6/19/2020   19      6  2020    658    42.0             Afghanistan   \n",
      "2      6/18/2020   18      6  2020    564    13.0             Afghanistan   \n",
      "3      6/17/2020   17      6  2020    783    13.0             Afghanistan   \n",
      "4      6/16/2020   16      6  2020    761     7.0             Afghanistan   \n",
      "...          ...  ...    ...   ...    ...     ...                     ...   \n",
      "24339  3/25/2020   25      3  2020      0     0.0                Zimbabwe   \n",
      "24340  3/24/2020   24      3  2020      0     1.0                Zimbabwe   \n",
      "24341  3/23/2020   23      3  2020      0     0.0                Zimbabwe   \n",
      "24342  3/22/2020   22      3  2020      1     0.0                Zimbabwe   \n",
      "24343  3/21/2020   21      3  2020      1     0.0                Zimbabwe   \n",
      "\n",
      "      geoId countryterritoryCode  popData2019 continentExp  % of cases  \n",
      "0        AF                  AFG     38041757         Asia    0.000910  \n",
      "1        AF                  AFG     38041757         Asia    0.001730  \n",
      "2        AF                  AFG     38041757         Asia    0.001483  \n",
      "3        AF                  AFG     38041757         Asia    0.002058  \n",
      "4        AF                  AFG     38041757         Asia    0.002000  \n",
      "...     ...                  ...          ...          ...         ...  \n",
      "24339    ZW                  ZWE     14645473       Africa    0.000000  \n",
      "24340    ZW                  ZWE     14645473       Africa    0.000000  \n",
      "24341    ZW                  ZWE     14645473       Africa    0.000000  \n",
      "24342    ZW                  ZWE     14645473       Africa    0.000007  \n",
      "24343    ZW                  ZWE     14645473       Africa    0.000007  \n",
      "\n",
      "[24344 rows x 12 columns]\n"
     ]
    }
   ],
   "source": [
    "# Add a new column for % of cases\n",
    "COVID_df['% of cases'] = COVID_df['cases']/COVID_df['popData2019']*100\n",
    "print(COVID_df)"
   ]
  },
  {
   "cell_type": "code",
   "execution_count": 81,
   "metadata": {},
   "outputs": [
    {
     "name": "stdout",
     "output_type": "stream",
     "text": [
      "         dateRep  day  month  year  cases  deaths countriesAndTerritories  \\\n",
      "0      6/20/2020   20      6  2020    346     2.0             Afghanistan   \n",
      "1      6/19/2020   19      6  2020    658    42.0             Afghanistan   \n",
      "2      6/18/2020   18      6  2020    564    13.0             Afghanistan   \n",
      "3      6/17/2020   17      6  2020    783    13.0             Afghanistan   \n",
      "4      6/16/2020   16      6  2020    761     7.0             Afghanistan   \n",
      "...          ...  ...    ...   ...    ...     ...                     ...   \n",
      "24339  3/25/2020   25      3  2020      0     0.0                Zimbabwe   \n",
      "24340  3/24/2020   24      3  2020      0     1.0                Zimbabwe   \n",
      "24341  3/23/2020   23      3  2020      0     0.0                Zimbabwe   \n",
      "24342  3/22/2020   22      3  2020      1     0.0                Zimbabwe   \n",
      "24343  3/21/2020   21      3  2020      1     0.0                Zimbabwe   \n",
      "\n",
      "      geoId countryterritoryCode  popData2019 continentExp  % of cases  \\\n",
      "0        AF                  AFG     38041757         Asia    0.000910   \n",
      "1        AF                  AFG     38041757         Asia    0.001730   \n",
      "2        AF                  AFG     38041757         Asia    0.001483   \n",
      "3        AF                  AFG     38041757         Asia    0.002058   \n",
      "4        AF                  AFG     38041757         Asia    0.002000   \n",
      "...     ...                  ...          ...          ...         ...   \n",
      "24339    ZW                  ZWE     14645473       Africa    0.000000   \n",
      "24340    ZW                  ZWE     14645473       Africa    0.000000   \n",
      "24341    ZW                  ZWE     14645473       Africa    0.000000   \n",
      "24342    ZW                  ZWE     14645473       Africa    0.000007   \n",
      "24343    ZW                  ZWE     14645473       Africa    0.000007   \n",
      "\n",
      "       % of death  \n",
      "0        0.000005  \n",
      "1        0.000110  \n",
      "2        0.000034  \n",
      "3        0.000034  \n",
      "4        0.000018  \n",
      "...           ...  \n",
      "24339    0.000000  \n",
      "24340    0.000007  \n",
      "24341    0.000000  \n",
      "24342    0.000000  \n",
      "24343    0.000000  \n",
      "\n",
      "[24344 rows x 13 columns]\n"
     ]
    }
   ],
   "source": [
    "# Add a new column for % of death\n",
    "COVID_df['% of death']=COVID_df['deaths']/COVID_df['popData2019']*100\n",
    "print(COVID_df)"
   ]
  },
  {
   "cell_type": "code",
   "execution_count": 82,
   "metadata": {},
   "outputs": [
    {
     "data": {
      "text/html": [
       "<div>\n",
       "<style scoped>\n",
       "    .dataframe tbody tr th:only-of-type {\n",
       "        vertical-align: middle;\n",
       "    }\n",
       "\n",
       "    .dataframe tbody tr th {\n",
       "        vertical-align: top;\n",
       "    }\n",
       "\n",
       "    .dataframe thead th {\n",
       "        text-align: right;\n",
       "    }\n",
       "</style>\n",
       "<table border=\"1\" class=\"dataframe\">\n",
       "  <thead>\n",
       "    <tr style=\"text-align: right;\">\n",
       "      <th></th>\n",
       "      <th>dateRep</th>\n",
       "      <th>day</th>\n",
       "      <th>month</th>\n",
       "      <th>year</th>\n",
       "      <th>cases</th>\n",
       "      <th>deaths</th>\n",
       "      <th>countriesAndTerritories</th>\n",
       "      <th>geoId</th>\n",
       "      <th>countryterritoryCode</th>\n",
       "      <th>popData2019</th>\n",
       "      <th>continentExp</th>\n",
       "      <th>% of cases</th>\n",
       "      <th>% of death</th>\n",
       "    </tr>\n",
       "  </thead>\n",
       "  <tbody>\n",
       "    <tr>\n",
       "      <th>0</th>\n",
       "      <td>6/20/2020</td>\n",
       "      <td>20</td>\n",
       "      <td>6</td>\n",
       "      <td>2020</td>\n",
       "      <td>346</td>\n",
       "      <td>2.0</td>\n",
       "      <td>Afghanistan</td>\n",
       "      <td>AF</td>\n",
       "      <td>AFG</td>\n",
       "      <td>38041757</td>\n",
       "      <td>Asia</td>\n",
       "      <td>0.000910</td>\n",
       "      <td>0.000005</td>\n",
       "    </tr>\n",
       "    <tr>\n",
       "      <th>1</th>\n",
       "      <td>6/19/2020</td>\n",
       "      <td>19</td>\n",
       "      <td>6</td>\n",
       "      <td>2020</td>\n",
       "      <td>658</td>\n",
       "      <td>42.0</td>\n",
       "      <td>Afghanistan</td>\n",
       "      <td>AF</td>\n",
       "      <td>AFG</td>\n",
       "      <td>38041757</td>\n",
       "      <td>Asia</td>\n",
       "      <td>0.001730</td>\n",
       "      <td>0.000110</td>\n",
       "    </tr>\n",
       "    <tr>\n",
       "      <th>2</th>\n",
       "      <td>6/18/2020</td>\n",
       "      <td>18</td>\n",
       "      <td>6</td>\n",
       "      <td>2020</td>\n",
       "      <td>564</td>\n",
       "      <td>13.0</td>\n",
       "      <td>Afghanistan</td>\n",
       "      <td>AF</td>\n",
       "      <td>AFG</td>\n",
       "      <td>38041757</td>\n",
       "      <td>Asia</td>\n",
       "      <td>0.001483</td>\n",
       "      <td>0.000034</td>\n",
       "    </tr>\n",
       "    <tr>\n",
       "      <th>3</th>\n",
       "      <td>6/17/2020</td>\n",
       "      <td>17</td>\n",
       "      <td>6</td>\n",
       "      <td>2020</td>\n",
       "      <td>783</td>\n",
       "      <td>13.0</td>\n",
       "      <td>Afghanistan</td>\n",
       "      <td>AF</td>\n",
       "      <td>AFG</td>\n",
       "      <td>38041757</td>\n",
       "      <td>Asia</td>\n",
       "      <td>0.002058</td>\n",
       "      <td>0.000034</td>\n",
       "    </tr>\n",
       "    <tr>\n",
       "      <th>4</th>\n",
       "      <td>6/16/2020</td>\n",
       "      <td>16</td>\n",
       "      <td>6</td>\n",
       "      <td>2020</td>\n",
       "      <td>761</td>\n",
       "      <td>7.0</td>\n",
       "      <td>Afghanistan</td>\n",
       "      <td>AF</td>\n",
       "      <td>AFG</td>\n",
       "      <td>38041757</td>\n",
       "      <td>Asia</td>\n",
       "      <td>0.002000</td>\n",
       "      <td>0.000018</td>\n",
       "    </tr>\n",
       "  </tbody>\n",
       "</table>\n",
       "</div>"
      ],
      "text/plain": [
       "     dateRep  day  month  year  cases  deaths countriesAndTerritories geoId  \\\n",
       "0  6/20/2020   20      6  2020    346     2.0             Afghanistan    AF   \n",
       "1  6/19/2020   19      6  2020    658    42.0             Afghanistan    AF   \n",
       "2  6/18/2020   18      6  2020    564    13.0             Afghanistan    AF   \n",
       "3  6/17/2020   17      6  2020    783    13.0             Afghanistan    AF   \n",
       "4  6/16/2020   16      6  2020    761     7.0             Afghanistan    AF   \n",
       "\n",
       "  countryterritoryCode  popData2019 continentExp  % of cases  % of death  \n",
       "0                  AFG     38041757         Asia    0.000910    0.000005  \n",
       "1                  AFG     38041757         Asia    0.001730    0.000110  \n",
       "2                  AFG     38041757         Asia    0.001483    0.000034  \n",
       "3                  AFG     38041757         Asia    0.002058    0.000034  \n",
       "4                  AFG     38041757         Asia    0.002000    0.000018  "
      ]
     },
     "execution_count": 82,
     "metadata": {},
     "output_type": "execute_result"
    }
   ],
   "source": [
    "COVID_df.head(5)"
   ]
  },
  {
   "cell_type": "code",
   "execution_count": 66,
   "metadata": {},
   "outputs": [
    {
     "data": {
      "image/png": "[encoded data removed]",
      "text/plain": [
       "<Figure size 432x288 with 1 Axes>"
      ]
     },
     "metadata": {
      "needs_background": "light"
     },
     "output_type": "display_data"
    }
   ],
   "source": [
    "# Visualize the cases distribution\n",
    "COVID_df['cases'].plot(kind='box')\n",
    "plt.ylabel('No. of cases')\n",
    "plt.show()"
   ]
  },
  {
   "cell_type": "code",
   "execution_count": 68,
   "metadata": {},
   "outputs": [
    {
     "data": {
      "image/png": "[encoded data removed]",
      "text/plain": [
       "<Figure size 432x288 with 1 Axes>"
      ]
     },
     "metadata": {
      "needs_background": "light"
     },
     "output_type": "display_data"
    }
   ],
   "source": [
    "# Check on the case distribution on each month\n",
    "COVID_df.plot(x='month', y='cases', kind='scatter')\n",
    "plt.xlabel('Month')\n",
    "plt.ylabel('Number of case')\n",
    "plt.show()"
   ]
  },
  {
   "cell_type": "code",
   "execution_count": 86,
   "metadata": {},
   "outputs": [
    {
     "data": {
      "text/plain": [
       "<matplotlib.axes._subplots.AxesSubplot at 0x17094e42978>"
      ]
     },
     "execution_count": 86,
     "metadata": {},
     "output_type": "execute_result"
    },
    {
     "data": {
      "image/png": "[encoded data removed]",
      "text/plain": [
       "<Figure size 432x288 with 1 Axes>"
      ]
     },
     "metadata": {
      "needs_background": "light"
     },
     "output_type": "display_data"
    }
   ],
   "source": [
    "sns.barplot(x='month', y='cases', data=COVID_df)"
   ]
  },
  {
   "cell_type": "markdown",
   "metadata": {},
   "source": [
    "From the above chart, we can see the no. of case per day is increasing month by month."
   ]
  },
  {
   "cell_type": "code",
   "execution_count": 89,
   "metadata": {},
   "outputs": [
    {
     "data": {
      "image/png": "[encoded data removed]",
      "text/plain": [
       "<Figure size 432x288 with 1 Axes>"
      ]
     },
     "metadata": {
      "needs_background": "light"
     },
     "output_type": "display_data"
    }
   ],
   "source": [
    "# Visualize the cases distribution\n",
    "COVID_df['deaths'].plot(kind='box')\n",
    "plt.ylabel('No. of deaths')\n",
    "plt.show()"
   ]
  },
  {
   "cell_type": "code",
   "execution_count": 27,
   "metadata": {},
   "outputs": [
    {
     "data": {
      "image/png": "[encoded data removed]",
      "text/plain": [
       "<Figure size 432x288 with 1 Axes>"
      ]
     },
     "metadata": {
      "needs_background": "light"
     },
     "output_type": "display_data"
    }
   ],
   "source": [
    "# Check on the deaths distribution on each month\n",
    "COVID_df.plot(x='month', y='deaths', kind='scatter')\n",
    "plt.xlabel('Month')\n",
    "plt.ylabel('Number of death')\n",
    "plt.show()"
   ]
  },
  {
   "cell_type": "code",
   "execution_count": 88,
   "metadata": {},
   "outputs": [
    {
     "data": {
      "text/plain": [
       "<matplotlib.axes._subplots.AxesSubplot at 0x17094fdfc50>"
      ]
     },
     "execution_count": 88,
     "metadata": {},
     "output_type": "execute_result"
    },
    {
     "data": {
      "image/png": "[encoded data removed]",
      "text/plain": [
       "<Figure size 432x288 with 1 Axes>"
      ]
     },
     "metadata": {
      "needs_background": "light"
     },
     "output_type": "display_data"
    }
   ],
   "source": [
    "sns.barplot(x='month', y='deaths', data=COVID_df)"
   ]
  },
  {
   "cell_type": "markdown",
   "metadata": {},
   "source": [
    "From the chart, we can see Apr. has the the highest no. of death per day, and the no. of death is gradually decreasing after Ar when the no. of case is increasing. So, we may conclude that country has better treatment to decrease the death effectively.   "
   ]
  },
  {
   "cell_type": "code",
   "execution_count": 90,
   "metadata": {},
   "outputs": [
    {
     "data": {
      "image/png": "[encoded data removed]",
      "text/plain": [
       "<Figure size 432x288 with 1 Axes>"
      ]
     },
     "metadata": {
      "needs_background": "light"
     },
     "output_type": "display_data"
    }
   ],
   "source": [
    "# Visualize the cases distribution\n",
    "COVID_df['% of cases'].plot(kind='box')\n",
    "plt.ylabel('%. of cases')\n",
    "plt.show()"
   ]
  },
  {
   "cell_type": "code",
   "execution_count": 91,
   "metadata": {},
   "outputs": [
    {
     "data": {
      "image/png": "[encoded data removed]",
      "text/plain": [
       "<Figure size 432x288 with 1 Axes>"
      ]
     },
     "metadata": {
      "needs_background": "light"
     },
     "output_type": "display_data"
    }
   ],
   "source": [
    "# Check on the deaths distribution on each month\n",
    "COVID_df.plot(x='month', y='% of cases', kind='scatter')\n",
    "plt.xlabel('Month')\n",
    "plt.ylabel('% of cases')\n",
    "plt.show()"
   ]
  },
  {
   "cell_type": "code",
   "execution_count": 92,
   "metadata": {},
   "outputs": [
    {
     "data": {
      "text/plain": [
       "<matplotlib.axes._subplots.AxesSubplot at 0x17094f265c0>"
      ]
     },
     "execution_count": 92,
     "metadata": {},
     "output_type": "execute_result"
    },
    {
     "data": {
      "image/png": "[encoded data removed]",
      "text/plain": [
       "<Figure size 432x288 with 1 Axes>"
      ]
     },
     "metadata": {
      "needs_background": "light"
     },
     "output_type": "display_data"
    }
   ],
   "source": [
    "sns.barplot(x='month', y='% of cases', data=COVID_df)"
   ]
  },
  {
   "cell_type": "markdown",
   "metadata": {},
   "source": [
    "We can see the % of case per day is pretty stable month by month. The % of case has been effectively controlled until May. We can see the % of case is increasing a lot compared with May."
   ]
  },
  {
   "cell_type": "code",
   "execution_count": 93,
   "metadata": {},
   "outputs": [
    {
     "data": {
      "image/png": "[encoded data removed]",
      "text/plain": [
       "<Figure size 432x288 with 1 Axes>"
      ]
     },
     "metadata": {
      "needs_background": "light"
     },
     "output_type": "display_data"
    }
   ],
   "source": [
    "# Visualize the cases distribution\n",
    "COVID_df['% of death'].plot(kind='box')\n",
    "plt.ylabel('% of death')\n",
    "plt.show()"
   ]
  },
  {
   "cell_type": "code",
   "execution_count": 94,
   "metadata": {},
   "outputs": [
    {
     "data": {
      "image/png": "[encoded data removed]",
      "text/plain": [
       "<Figure size 432x288 with 1 Axes>"
      ]
     },
     "metadata": {
      "needs_background": "light"
     },
     "output_type": "display_data"
    }
   ],
   "source": [
    "# Check on the deaths distribution on each month\n",
    "COVID_df.plot(x='month', y='% of death', kind='scatter')\n",
    "plt.xlabel('Month')\n",
    "plt.ylabel('% of death')\n",
    "plt.show()"
   ]
  },
  {
   "cell_type": "code",
   "execution_count": 95,
   "metadata": {},
   "outputs": [
    {
     "data": {
      "text/plain": [
       "<matplotlib.axes._subplots.AxesSubplot at 0x17096289a58>"
      ]
     },
     "execution_count": 95,
     "metadata": {},
     "output_type": "execute_result"
    },
    {
     "data": {
      "image/png": "[encoded data removed]",
      "text/plain": [
       "<Figure size 432x288 with 1 Axes>"
      ]
     },
     "metadata": {
      "needs_background": "light"
     },
     "output_type": "display_data"
    }
   ],
   "source": [
    "sns.barplot(x='month', y='% of death', data=COVID_df)"
   ]
  },
  {
   "cell_type": "markdown",
   "metadata": {},
   "source": [
    "While looking at the % of death per day, we can see Apr has the highest % which is consistent with the no. of death. However, we know the % of case in June has incrased a lot compared with May, but the % of death in June doesn't reflect the same pattern. It might due to the timing difference. "
   ]
  },
  {
   "cell_type": "code",
   "execution_count": 69,
   "metadata": {},
   "outputs": [
    {
     "name": "stdout",
     "output_type": "stream",
     "text": [
      "           sum\n",
      "month         \n",
      "1         9799\n",
      "2        74692\n",
      "3       711040\n",
      "4      2338519\n",
      "5      2905852\n",
      "6      2608079\n",
      "12          27\n"
     ]
    }
   ],
   "source": [
    "month_groupby=COVID_df.groupby(by='month')['cases'].agg(['sum'])\n",
    "print(month_groupby)"
   ]
  },
  {
   "cell_type": "markdown",
   "metadata": {},
   "source": [
    "Even June has the highest no. of case, the total case in June is not the highest which might due to the cut off date of this data. This data only contains the information up to June 20, 2020. It is not the full month of June. In order to better analyzing the data, we need to have the full month of data in June. "
   ]
  },
  {
   "cell_type": "code",
   "execution_count": 100,
   "metadata": {},
   "outputs": [
    {
     "name": "stdout",
     "output_type": "stream",
     "text": [
      "                        sum\n",
      "countryterritoryCode       \n",
      "ABW                     101\n",
      "AFG                   27878\n",
      "AGO                     166\n",
      "AIA                       3\n",
      "ALB                    1838\n",
      "...                     ...\n",
      "XKX                    1486\n",
      "YEM                     919\n",
      "ZAF                   87715\n",
      "ZMB                    1430\n",
      "ZWE                     479\n",
      "\n",
      "[206 rows x 1 columns]\n"
     ]
    }
   ],
   "source": [
    "country_groupby=COVID_df.groupby(by='countryterritoryCode')['cases'].agg(['sum'])\n",
    "print(country_groupby)"
   ]
  },
  {
   "cell_type": "code",
   "execution_count": 104,
   "metadata": {},
   "outputs": [
    {
     "data": {
      "text/html": [
       "<div>\n",
       "<style scoped>\n",
       "    .dataframe tbody tr th:only-of-type {\n",
       "        vertical-align: middle;\n",
       "    }\n",
       "\n",
       "    .dataframe tbody tr th {\n",
       "        vertical-align: top;\n",
       "    }\n",
       "\n",
       "    .dataframe thead th {\n",
       "        text-align: right;\n",
       "    }\n",
       "</style>\n",
       "<table border=\"1\" class=\"dataframe\">\n",
       "  <thead>\n",
       "    <tr style=\"text-align: right;\">\n",
       "      <th></th>\n",
       "      <th>sum</th>\n",
       "    </tr>\n",
       "  </thead>\n",
       "  <tbody>\n",
       "    <tr>\n",
       "      <th>count</th>\n",
       "      <td>2.060000e+02</td>\n",
       "    </tr>\n",
       "    <tr>\n",
       "      <th>mean</th>\n",
       "      <td>4.198062e+04</td>\n",
       "    </tr>\n",
       "    <tr>\n",
       "      <th>std</th>\n",
       "      <td>1.814438e+05</td>\n",
       "    </tr>\n",
       "    <tr>\n",
       "      <th>min</th>\n",
       "      <td>3.000000e+00</td>\n",
       "    </tr>\n",
       "    <tr>\n",
       "      <th>25%</th>\n",
       "      <td>2.992500e+02</td>\n",
       "    </tr>\n",
       "    <tr>\n",
       "      <th>50%</th>\n",
       "      <td>1.964500e+03</td>\n",
       "    </tr>\n",
       "    <tr>\n",
       "      <th>75%</th>\n",
       "      <td>1.708350e+04</td>\n",
       "    </tr>\n",
       "    <tr>\n",
       "      <th>max</th>\n",
       "      <td>2.220961e+06</td>\n",
       "    </tr>\n",
       "  </tbody>\n",
       "</table>\n",
       "</div>"
      ],
      "text/plain": [
       "                sum\n",
       "count  2.060000e+02\n",
       "mean   4.198062e+04\n",
       "std    1.814438e+05\n",
       "min    3.000000e+00\n",
       "25%    2.992500e+02\n",
       "50%    1.964500e+03\n",
       "75%    1.708350e+04\n",
       "max    2.220961e+06"
      ]
     },
     "execution_count": 104,
     "metadata": {},
     "output_type": "execute_result"
    }
   ],
   "source": [
    "country_groupby.describe()"
   ]
  },
  {
   "cell_type": "code",
   "execution_count": 114,
   "metadata": {},
   "outputs": [
    {
     "data": {
      "text/html": [
       "<div>\n",
       "<style scoped>\n",
       "    .dataframe tbody tr th:only-of-type {\n",
       "        vertical-align: middle;\n",
       "    }\n",
       "\n",
       "    .dataframe tbody tr th {\n",
       "        vertical-align: top;\n",
       "    }\n",
       "\n",
       "    .dataframe thead th {\n",
       "        text-align: right;\n",
       "    }\n",
       "</style>\n",
       "<table border=\"1\" class=\"dataframe\">\n",
       "  <thead>\n",
       "    <tr style=\"text-align: right;\">\n",
       "      <th></th>\n",
       "      <th>sum</th>\n",
       "    </tr>\n",
       "    <tr>\n",
       "      <th>countryterritoryCode</th>\n",
       "      <th></th>\n",
       "    </tr>\n",
       "  </thead>\n",
       "  <tbody>\n",
       "    <tr>\n",
       "      <th>AIA</th>\n",
       "      <td>3</td>\n",
       "    </tr>\n",
       "    <tr>\n",
       "      <th>LSO</th>\n",
       "      <td>4</td>\n",
       "    </tr>\n",
       "    <tr>\n",
       "      <th>BES</th>\n",
       "      <td>7</td>\n",
       "    </tr>\n",
       "    <tr>\n",
       "      <th>PNG</th>\n",
       "      <td>8</td>\n",
       "    </tr>\n",
       "    <tr>\n",
       "      <th>VGB</th>\n",
       "      <td>8</td>\n",
       "    </tr>\n",
       "    <tr>\n",
       "      <th>...</th>\n",
       "      <td>...</td>\n",
       "    </tr>\n",
       "    <tr>\n",
       "      <th>GBR</th>\n",
       "      <td>302865</td>\n",
       "    </tr>\n",
       "    <tr>\n",
       "      <th>IND</th>\n",
       "      <td>395048</td>\n",
       "    </tr>\n",
       "    <tr>\n",
       "      <th>RUS</th>\n",
       "      <td>569063</td>\n",
       "    </tr>\n",
       "    <tr>\n",
       "      <th>BRA</th>\n",
       "      <td>1032913</td>\n",
       "    </tr>\n",
       "    <tr>\n",
       "      <th>USA</th>\n",
       "      <td>2220961</td>\n",
       "    </tr>\n",
       "  </tbody>\n",
       "</table>\n",
       "<p>206 rows × 1 columns</p>\n",
       "</div>"
      ],
      "text/plain": [
       "                          sum\n",
       "countryterritoryCode         \n",
       "AIA                         3\n",
       "LSO                         4\n",
       "BES                         7\n",
       "PNG                         8\n",
       "VGB                         8\n",
       "...                       ...\n",
       "GBR                    302865\n",
       "IND                    395048\n",
       "RUS                    569063\n",
       "BRA                   1032913\n",
       "USA                   2220961\n",
       "\n",
       "[206 rows x 1 columns]"
      ]
     },
     "execution_count": 114,
     "metadata": {},
     "output_type": "execute_result"
    }
   ],
   "source": [
    "# sort the country by no. of case\n",
    "country_groupby.sort_values(by=['sum'])"
   ]
  },
  {
   "cell_type": "markdown",
   "metadata": {},
   "source": [
    "Based on the above information, we see USA has the most case in the world and Anguilla has the lowest no. of case in the world. The average case per coutry is 41,980. However, this number doesn't take the country population into cosideration. In order to be more objective to see each country performance while facing the COVID-19. We need to look at the of cases in stead of no. of case per country."
   ]
  },
  {
   "cell_type": "code",
   "execution_count": 101,
   "metadata": {},
   "outputs": [
    {
     "name": "stdout",
     "output_type": "stream",
     "text": [
      "                           sum\n",
      "countryterritoryCode          \n",
      "ABW                   0.095255\n",
      "AFG                   0.073283\n",
      "AGO                   0.000522\n",
      "AIA                   0.020172\n",
      "ALB                   0.063799\n",
      "...                        ...\n",
      "XKX                   0.080529\n",
      "YEM                   0.003151\n",
      "ZAF                   0.149791\n",
      "ZMB                   0.008006\n",
      "ZWE                   0.003271\n",
      "\n",
      "[206 rows x 1 columns]\n"
     ]
    }
   ],
   "source": [
    "casep_groupby=COVID_df.groupby(by='countryterritoryCode')['% of cases'].agg(['sum'])\n",
    "print(casep_groupby)"
   ]
  },
  {
   "cell_type": "code",
   "execution_count": 118,
   "metadata": {},
   "outputs": [
    {
     "data": {
      "text/html": [
       "<div>\n",
       "<style scoped>\n",
       "    .dataframe tbody tr th:only-of-type {\n",
       "        vertical-align: middle;\n",
       "    }\n",
       "\n",
       "    .dataframe tbody tr th {\n",
       "        vertical-align: top;\n",
       "    }\n",
       "\n",
       "    .dataframe thead th {\n",
       "        text-align: right;\n",
       "    }\n",
       "</style>\n",
       "<table border=\"1\" class=\"dataframe\">\n",
       "  <thead>\n",
       "    <tr style=\"text-align: right;\">\n",
       "      <th></th>\n",
       "      <th>sum</th>\n",
       "    </tr>\n",
       "  </thead>\n",
       "  <tbody>\n",
       "    <tr>\n",
       "      <th>count</th>\n",
       "      <td>206.000000</td>\n",
       "    </tr>\n",
       "    <tr>\n",
       "      <th>mean</th>\n",
       "      <td>0.238713</td>\n",
       "    </tr>\n",
       "    <tr>\n",
       "      <th>std</th>\n",
       "      <td>0.691089</td>\n",
       "    </tr>\n",
       "    <tr>\n",
       "      <th>min</th>\n",
       "      <td>0.000091</td>\n",
       "    </tr>\n",
       "    <tr>\n",
       "      <th>25%</th>\n",
       "      <td>0.014041</td>\n",
       "    </tr>\n",
       "    <tr>\n",
       "      <th>50%</th>\n",
       "      <td>0.047791</td>\n",
       "    </tr>\n",
       "    <tr>\n",
       "      <th>75%</th>\n",
       "      <td>0.226375</td>\n",
       "    </tr>\n",
       "    <tr>\n",
       "      <th>max</th>\n",
       "      <td>6.657139</td>\n",
       "    </tr>\n",
       "  </tbody>\n",
       "</table>\n",
       "</div>"
      ],
      "text/plain": [
       "              sum\n",
       "count  206.000000\n",
       "mean     0.238713\n",
       "std      0.691089\n",
       "min      0.000091\n",
       "25%      0.014041\n",
       "50%      0.047791\n",
       "75%      0.226375\n",
       "max      6.657139"
      ]
     },
     "execution_count": 118,
     "metadata": {},
     "output_type": "execute_result"
    }
   ],
   "source": [
    "casep_groupby.describe()"
   ]
  },
  {
   "cell_type": "code",
   "execution_count": 116,
   "metadata": {},
   "outputs": [
    {
     "data": {
      "text/html": [
       "<div>\n",
       "<style scoped>\n",
       "    .dataframe tbody tr th:only-of-type {\n",
       "        vertical-align: middle;\n",
       "    }\n",
       "\n",
       "    .dataframe tbody tr th {\n",
       "        vertical-align: top;\n",
       "    }\n",
       "\n",
       "    .dataframe thead th {\n",
       "        text-align: right;\n",
       "    }\n",
       "</style>\n",
       "<table border=\"1\" class=\"dataframe\">\n",
       "  <thead>\n",
       "    <tr style=\"text-align: right;\">\n",
       "      <th></th>\n",
       "      <th>sum</th>\n",
       "    </tr>\n",
       "    <tr>\n",
       "      <th>countryterritoryCode</th>\n",
       "      <th></th>\n",
       "    </tr>\n",
       "  </thead>\n",
       "  <tbody>\n",
       "    <tr>\n",
       "      <th>PNG</th>\n",
       "      <td>0.000091</td>\n",
       "    </tr>\n",
       "    <tr>\n",
       "      <th>LSO</th>\n",
       "      <td>0.000188</td>\n",
       "    </tr>\n",
       "    <tr>\n",
       "      <th>LAO</th>\n",
       "      <td>0.000265</td>\n",
       "    </tr>\n",
       "    <tr>\n",
       "      <th>VNM</th>\n",
       "      <td>0.000362</td>\n",
       "    </tr>\n",
       "    <tr>\n",
       "      <th>AGO</th>\n",
       "      <td>0.000522</td>\n",
       "    </tr>\n",
       "    <tr>\n",
       "      <th>...</th>\n",
       "      <td>...</td>\n",
       "    </tr>\n",
       "    <tr>\n",
       "      <th>SMR</th>\n",
       "      <td>2.108434</td>\n",
       "    </tr>\n",
       "    <tr>\n",
       "      <th>LIE</th>\n",
       "      <td>2.183062</td>\n",
       "    </tr>\n",
       "    <tr>\n",
       "      <th>QAT</th>\n",
       "      <td>3.017650</td>\n",
       "    </tr>\n",
       "    <tr>\n",
       "      <th>PAN</th>\n",
       "      <td>5.716318</td>\n",
       "    </tr>\n",
       "    <tr>\n",
       "      <th>LUX</th>\n",
       "      <td>6.657139</td>\n",
       "    </tr>\n",
       "  </tbody>\n",
       "</table>\n",
       "<p>206 rows × 1 columns</p>\n",
       "</div>"
      ],
      "text/plain": [
       "                           sum\n",
       "countryterritoryCode          \n",
       "PNG                   0.000091\n",
       "LSO                   0.000188\n",
       "LAO                   0.000265\n",
       "VNM                   0.000362\n",
       "AGO                   0.000522\n",
       "...                        ...\n",
       "SMR                   2.108434\n",
       "LIE                   2.183062\n",
       "QAT                   3.017650\n",
       "PAN                   5.716318\n",
       "LUX                   6.657139\n",
       "\n",
       "[206 rows x 1 columns]"
      ]
     },
     "execution_count": 116,
     "metadata": {},
     "output_type": "execute_result"
    }
   ],
   "source": [
    "# sort the country by % of the case\n",
    "casep_groupby.sort_values(by=['sum'])"
   ]
  },
  {
   "cell_type": "markdown",
   "metadata": {},
   "source": [
    "Now, we look at the % of case per country, we can see LUX has the highest % of case per country, not USA. PNG has the lowest % of case per country, not AIA. From the above information, we can see the country has the highest no. of case doesn't necessary mean it has the highest % of case per country. Even thought, the USA has the highest no. of case in the world which doesn't mean it performs worest while preventing the COVID-19. "
   ]
  },
  {
   "cell_type": "code",
   "execution_count": 102,
   "metadata": {},
   "outputs": [
    {
     "name": "stdout",
     "output_type": "stream",
     "text": [
      "                           sum\n",
      "countryterritoryCode          \n",
      "ABW                   0.002829\n",
      "AFG                   0.001441\n",
      "AGO                   0.000025\n",
      "AIA                   0.000000\n",
      "ALB                   0.001458\n",
      "...                        ...\n",
      "XKX                   0.001788\n",
      "YEM                   0.000861\n",
      "ZAF                   0.003127\n",
      "ZMB                   0.000062\n",
      "ZWE                   0.000027\n",
      "\n",
      "[206 rows x 1 columns]\n"
     ]
    }
   ],
   "source": [
    "deathp_groupby=COVID_df.groupby(by='countryterritoryCode')['% of death'].agg(['sum'])\n",
    "print(deathp_groupby)"
   ]
  },
  {
   "cell_type": "code",
   "execution_count": 103,
   "metadata": {},
   "outputs": [
    {
     "data": {
      "text/html": [
       "<div>\n",
       "<style scoped>\n",
       "    .dataframe tbody tr th:only-of-type {\n",
       "        vertical-align: middle;\n",
       "    }\n",
       "\n",
       "    .dataframe tbody tr th {\n",
       "        vertical-align: top;\n",
       "    }\n",
       "\n",
       "    .dataframe thead th {\n",
       "        text-align: right;\n",
       "    }\n",
       "</style>\n",
       "<table border=\"1\" class=\"dataframe\">\n",
       "  <thead>\n",
       "    <tr style=\"text-align: right;\">\n",
       "      <th></th>\n",
       "      <th>sum</th>\n",
       "    </tr>\n",
       "  </thead>\n",
       "  <tbody>\n",
       "    <tr>\n",
       "      <th>count</th>\n",
       "      <td>206.000000</td>\n",
       "    </tr>\n",
       "    <tr>\n",
       "      <th>mean</th>\n",
       "      <td>0.007804</td>\n",
       "    </tr>\n",
       "    <tr>\n",
       "      <th>std</th>\n",
       "      <td>0.020729</td>\n",
       "    </tr>\n",
       "    <tr>\n",
       "      <th>min</th>\n",
       "      <td>0.000000</td>\n",
       "    </tr>\n",
       "    <tr>\n",
       "      <th>25%</th>\n",
       "      <td>0.000165</td>\n",
       "    </tr>\n",
       "    <tr>\n",
       "      <th>50%</th>\n",
       "      <td>0.001102</td>\n",
       "    </tr>\n",
       "    <tr>\n",
       "      <th>75%</th>\n",
       "      <td>0.004612</td>\n",
       "    </tr>\n",
       "    <tr>\n",
       "      <th>max</th>\n",
       "      <td>0.178650</td>\n",
       "    </tr>\n",
       "  </tbody>\n",
       "</table>\n",
       "</div>"
      ],
      "text/plain": [
       "              sum\n",
       "count  206.000000\n",
       "mean     0.007804\n",
       "std      0.020729\n",
       "min      0.000000\n",
       "25%      0.000165\n",
       "50%      0.001102\n",
       "75%      0.004612\n",
       "max      0.178650"
      ]
     },
     "execution_count": 103,
     "metadata": {},
     "output_type": "execute_result"
    }
   ],
   "source": [
    "deathp_groupby.describe()"
   ]
  },
  {
   "cell_type": "code",
   "execution_count": 117,
   "metadata": {},
   "outputs": [
    {
     "data": {
      "text/html": [
       "<div>\n",
       "<style scoped>\n",
       "    .dataframe tbody tr th:only-of-type {\n",
       "        vertical-align: middle;\n",
       "    }\n",
       "\n",
       "    .dataframe tbody tr th {\n",
       "        vertical-align: top;\n",
       "    }\n",
       "\n",
       "    .dataframe thead th {\n",
       "        text-align: right;\n",
       "    }\n",
       "</style>\n",
       "<table border=\"1\" class=\"dataframe\">\n",
       "  <thead>\n",
       "    <tr style=\"text-align: right;\">\n",
       "      <th></th>\n",
       "      <th>sum</th>\n",
       "    </tr>\n",
       "    <tr>\n",
       "      <th>countryterritoryCode</th>\n",
       "      <th></th>\n",
       "    </tr>\n",
       "  </thead>\n",
       "  <tbody>\n",
       "    <tr>\n",
       "      <th>LSO</th>\n",
       "      <td>0.000000</td>\n",
       "    </tr>\n",
       "    <tr>\n",
       "      <th>NAM</th>\n",
       "      <td>0.000000</td>\n",
       "    </tr>\n",
       "    <tr>\n",
       "      <th>PNG</th>\n",
       "      <td>0.000000</td>\n",
       "    </tr>\n",
       "    <tr>\n",
       "      <th>KNA</th>\n",
       "      <td>0.000000</td>\n",
       "    </tr>\n",
       "    <tr>\n",
       "      <th>SYC</th>\n",
       "      <td>0.000000</td>\n",
       "    </tr>\n",
       "    <tr>\n",
       "      <th>...</th>\n",
       "      <td>...</td>\n",
       "    </tr>\n",
       "    <tr>\n",
       "      <th>AND</th>\n",
       "      <td>0.067405</td>\n",
       "    </tr>\n",
       "    <tr>\n",
       "      <th>BEL</th>\n",
       "      <td>0.084632</td>\n",
       "    </tr>\n",
       "    <tr>\n",
       "      <th>PAN</th>\n",
       "      <td>0.114213</td>\n",
       "    </tr>\n",
       "    <tr>\n",
       "      <th>SMR</th>\n",
       "      <td>0.124026</td>\n",
       "    </tr>\n",
       "    <tr>\n",
       "      <th>LUX</th>\n",
       "      <td>0.178650</td>\n",
       "    </tr>\n",
       "  </tbody>\n",
       "</table>\n",
       "<p>206 rows × 1 columns</p>\n",
       "</div>"
      ],
      "text/plain": [
       "                           sum\n",
       "countryterritoryCode          \n",
       "LSO                   0.000000\n",
       "NAM                   0.000000\n",
       "PNG                   0.000000\n",
       "KNA                   0.000000\n",
       "SYC                   0.000000\n",
       "...                        ...\n",
       "AND                   0.067405\n",
       "BEL                   0.084632\n",
       "PAN                   0.114213\n",
       "SMR                   0.124026\n",
       "LUX                   0.178650\n",
       "\n",
       "[206 rows x 1 columns]"
      ]
     },
     "execution_count": 117,
     "metadata": {},
     "output_type": "execute_result"
    }
   ],
   "source": [
    "# sort the country by % of the case\n",
    "deathp_groupby.sort_values(by=['sum'])"
   ]
  },
  {
   "cell_type": "markdown",
   "metadata": {},
   "source": [
    "When we look at the % of death rate, we can see that LUX has the highest % of death rate and % of case per country. it seems that % of death rate and % of case might have certian correlation. We might need to dig into it."
   ]
  },
  {
   "cell_type": "code",
   "execution_count": null,
   "metadata": {},
   "outputs": [],
   "source": []
  }
 ],
 "metadata": {
  "kernelspec": {
   "display_name": "Python 3",
   "language": "python",
   "name": "python3"
  },
  "language_info": {
   "codemirror_mode": {
    "name": "ipython",
    "version": 3
   },
   "file_extension": ".py",
   "mimetype": "text/x-python",
   "name": "python",
   "nbconvert_exporter": "python",
   "pygments_lexer": "ipython3",
   "version": "3.7.0"
  }
 },
 "nbformat": 4,
 "nbformat_minor": 2
}
