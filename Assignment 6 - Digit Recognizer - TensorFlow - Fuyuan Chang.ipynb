{
 "cells": [
  {
   "cell_type": "markdown",
   "metadata": {},
   "source": [
    "# Assignment 6\n",
    "\n",
    "## The Benchmark Experiment\n",
    "Tested neural network structures should be explored within a benchmark experiment, a factorial design with at least two levels on each of two experimental factors (at least a 2x2 completely crossed design).  You will build your models on train.csv and submit your forecasts for test.csv to Kaggle.com, providing your name and user ID for each experimental trial..\n",
    "\n",
    "An example experiment could include two values for the number of nodes per inner layer and two values for the number of inner layers. Various machine learning hyperparameter settings may be used.\n",
    "\n",
    "In summary, this assignment asks you to fit a number of neural networks, comparing processing time and performance across experimental treatments. Processing time will be recorded for the fitting on the train.csv.  Kaggle.com accuracy scores will be reported for all benchmarks.  \n",
    "\n",
    "## Management Question\n",
    "Suppose you are a financial institution evaluating machine learning technologies for optical character recognition. Initial testing is on the MNIST digits. What can you conclude from your benchmark study? Which neural network typology and hyperparameter settings would you recommend as being the most trustworthy?\n",
    "\n",
    "## Programming Resources\n",
    "Géron, A. (2017). Hands-on machine learning with Scikit-Learn & TensorFlow: Concepts, tools, and techniques to build intelligent systems. Sebastopol, CA: O’Reilly. [ISBN-13 978-1-491-96229-9]. Chapter 11: Training Deep Neural Networks (pp. 275–312). Chapter 11 code (a Jupyter Notebook file 11_deep_learning.ipynb) shows how to use TensorFlow with the MNIST data set:"
   ]
  },
  {
   "cell_type": "code",
   "execution_count": 1,
   "metadata": {},
   "outputs": [],
   "source": [
    "import tensorflow as tf"
   ]
  },
  {
   "cell_type": "code",
   "execution_count": 2,
   "metadata": {},
   "outputs": [
    {
     "name": "stderr",
     "output_type": "stream",
     "text": [
      "C:\\Users\\hiefu\\Anaconda3\\lib\\site-packages\\dask\\dataframe\\utils.py:13: FutureWarning: pandas.util.testing is deprecated. Use the functions in the public API at pandas.testing instead.\n",
      "  import pandas.util.testing as tm\n"
     ]
    },
    {
     "name": "stdout",
     "output_type": "stream",
     "text": [
      "curses is not supported on this machine (please install/reinstall curses for an optimal experience)\n",
      "WARNING:tensorflow:From C:\\Users\\hiefu\\Anaconda3\\lib\\site-packages\\tensorflow\\python\\framework\\op_def_library.py:263: colocate_with (from tensorflow.python.framework.ops) is deprecated and will be removed in a future version.\n",
      "Instructions for updating:\n",
      "Colocations handled automatically by placer.\n"
     ]
    },
    {
     "name": "stderr",
     "output_type": "stream",
     "text": [
      "Using TensorFlow backend.\n",
      "C:\\Users\\hiefu\\Anaconda3\\lib\\site-packages\\sklearn\\cross_validation.py:41: DeprecationWarning: This module was deprecated in version 0.18 in favor of the model_selection module into which all the refactored classes and functions are moved. Also note that the interface of the new CV iterators are different from that of this module. This module will be removed in 0.20.\n",
      "  \"This module will be removed in 0.20.\", DeprecationWarning)\n"
     ]
    }
   ],
   "source": [
    "import numpy as np # linear algebra\n",
    "import pandas as pd # data processing, CSV file I/O (e.g. pd.read_csv)\n",
    "import tensorflow as tf\n",
    "import tflearn\n",
    "from subprocess import check_output\n",
    "from keras.utils.np_utils import to_categorical\n",
    "from sklearn.cross_validation import train_test_split"
   ]
  },
  {
   "cell_type": "code",
   "execution_count": 3,
   "metadata": {},
   "outputs": [
    {
     "name": "stderr",
     "output_type": "stream",
     "text": [
      "C:\\Users\\hiefu\\Anaconda3\\lib\\site-packages\\sklearn\\ensemble\\weight_boosting.py:29: DeprecationWarning: numpy.core.umath_tests is an internal NumPy module and should not be imported. It will be removed in a future NumPy release.\n",
      "  from numpy.core.umath_tests import inner1d\n"
     ]
    }
   ],
   "source": [
    "# import libraries\n",
    "import numpy as np\n",
    "import pandas as pd\n",
    "from matplotlib import pyplot as plt\n",
    "from sklearn.ensemble import RandomForestClassifier\n",
    "from sklearn.cross_validation import train_test_split\n",
    "%matplotlib inline\n",
    "from datetime import datetime # Get current time"
   ]
  },
  {
   "cell_type": "code",
   "execution_count": 4,
   "metadata": {},
   "outputs": [],
   "source": [
    "# Import data\n",
    "train=pd.read_csv('train.csv')\n",
    "test=pd.read_csv('test.csv')"
   ]
  },
  {
   "cell_type": "code",
   "execution_count": 5,
   "metadata": {},
   "outputs": [
    {
     "name": "stdout",
     "output_type": "stream",
     "text": [
      "(42000, 785)\n"
     ]
    }
   ],
   "source": [
    "# check on the training data information\n",
    "print(train.shape)"
   ]
  },
  {
   "cell_type": "markdown",
   "metadata": {},
   "source": [
    "The tasin dataset contains 42,000 rows and 785 columns."
   ]
  },
  {
   "cell_type": "code",
   "execution_count": 6,
   "metadata": {},
   "outputs": [
    {
     "data": {
      "text/html": [
       "<div>\n",
       "<style scoped>\n",
       "    .dataframe tbody tr th:only-of-type {\n",
       "        vertical-align: middle;\n",
       "    }\n",
       "\n",
       "    .dataframe tbody tr th {\n",
       "        vertical-align: top;\n",
       "    }\n",
       "\n",
       "    .dataframe thead th {\n",
       "        text-align: right;\n",
       "    }\n",
       "</style>\n",
       "<table border=\"1\" class=\"dataframe\">\n",
       "  <thead>\n",
       "    <tr style=\"text-align: right;\">\n",
       "      <th></th>\n",
       "      <th>label</th>\n",
       "      <th>pixel0</th>\n",
       "      <th>pixel1</th>\n",
       "      <th>pixel2</th>\n",
       "      <th>pixel3</th>\n",
       "      <th>pixel4</th>\n",
       "      <th>pixel5</th>\n",
       "      <th>pixel6</th>\n",
       "      <th>pixel7</th>\n",
       "      <th>pixel8</th>\n",
       "      <th>...</th>\n",
       "      <th>pixel774</th>\n",
       "      <th>pixel775</th>\n",
       "      <th>pixel776</th>\n",
       "      <th>pixel777</th>\n",
       "      <th>pixel778</th>\n",
       "      <th>pixel779</th>\n",
       "      <th>pixel780</th>\n",
       "      <th>pixel781</th>\n",
       "      <th>pixel782</th>\n",
       "      <th>pixel783</th>\n",
       "    </tr>\n",
       "  </thead>\n",
       "  <tbody>\n",
       "    <tr>\n",
       "      <th>0</th>\n",
       "      <td>1</td>\n",
       "      <td>0</td>\n",
       "      <td>0</td>\n",
       "      <td>0</td>\n",
       "      <td>0</td>\n",
       "      <td>0</td>\n",
       "      <td>0</td>\n",
       "      <td>0</td>\n",
       "      <td>0</td>\n",
       "      <td>0</td>\n",
       "      <td>...</td>\n",
       "      <td>0</td>\n",
       "      <td>0</td>\n",
       "      <td>0</td>\n",
       "      <td>0</td>\n",
       "      <td>0</td>\n",
       "      <td>0</td>\n",
       "      <td>0</td>\n",
       "      <td>0</td>\n",
       "      <td>0</td>\n",
       "      <td>0</td>\n",
       "    </tr>\n",
       "    <tr>\n",
       "      <th>1</th>\n",
       "      <td>0</td>\n",
       "      <td>0</td>\n",
       "      <td>0</td>\n",
       "      <td>0</td>\n",
       "      <td>0</td>\n",
       "      <td>0</td>\n",
       "      <td>0</td>\n",
       "      <td>0</td>\n",
       "      <td>0</td>\n",
       "      <td>0</td>\n",
       "      <td>...</td>\n",
       "      <td>0</td>\n",
       "      <td>0</td>\n",
       "      <td>0</td>\n",
       "      <td>0</td>\n",
       "      <td>0</td>\n",
       "      <td>0</td>\n",
       "      <td>0</td>\n",
       "      <td>0</td>\n",
       "      <td>0</td>\n",
       "      <td>0</td>\n",
       "    </tr>\n",
       "    <tr>\n",
       "      <th>2</th>\n",
       "      <td>1</td>\n",
       "      <td>0</td>\n",
       "      <td>0</td>\n",
       "      <td>0</td>\n",
       "      <td>0</td>\n",
       "      <td>0</td>\n",
       "      <td>0</td>\n",
       "      <td>0</td>\n",
       "      <td>0</td>\n",
       "      <td>0</td>\n",
       "      <td>...</td>\n",
       "      <td>0</td>\n",
       "      <td>0</td>\n",
       "      <td>0</td>\n",
       "      <td>0</td>\n",
       "      <td>0</td>\n",
       "      <td>0</td>\n",
       "      <td>0</td>\n",
       "      <td>0</td>\n",
       "      <td>0</td>\n",
       "      <td>0</td>\n",
       "    </tr>\n",
       "    <tr>\n",
       "      <th>3</th>\n",
       "      <td>4</td>\n",
       "      <td>0</td>\n",
       "      <td>0</td>\n",
       "      <td>0</td>\n",
       "      <td>0</td>\n",
       "      <td>0</td>\n",
       "      <td>0</td>\n",
       "      <td>0</td>\n",
       "      <td>0</td>\n",
       "      <td>0</td>\n",
       "      <td>...</td>\n",
       "      <td>0</td>\n",
       "      <td>0</td>\n",
       "      <td>0</td>\n",
       "      <td>0</td>\n",
       "      <td>0</td>\n",
       "      <td>0</td>\n",
       "      <td>0</td>\n",
       "      <td>0</td>\n",
       "      <td>0</td>\n",
       "      <td>0</td>\n",
       "    </tr>\n",
       "    <tr>\n",
       "      <th>4</th>\n",
       "      <td>0</td>\n",
       "      <td>0</td>\n",
       "      <td>0</td>\n",
       "      <td>0</td>\n",
       "      <td>0</td>\n",
       "      <td>0</td>\n",
       "      <td>0</td>\n",
       "      <td>0</td>\n",
       "      <td>0</td>\n",
       "      <td>0</td>\n",
       "      <td>...</td>\n",
       "      <td>0</td>\n",
       "      <td>0</td>\n",
       "      <td>0</td>\n",
       "      <td>0</td>\n",
       "      <td>0</td>\n",
       "      <td>0</td>\n",
       "      <td>0</td>\n",
       "      <td>0</td>\n",
       "      <td>0</td>\n",
       "      <td>0</td>\n",
       "    </tr>\n",
       "  </tbody>\n",
       "</table>\n",
       "<p>5 rows × 785 columns</p>\n",
       "</div>"
      ],
      "text/plain": [
       "   label  pixel0  pixel1  pixel2  pixel3  pixel4  pixel5  pixel6  pixel7  \\\n",
       "0      1       0       0       0       0       0       0       0       0   \n",
       "1      0       0       0       0       0       0       0       0       0   \n",
       "2      1       0       0       0       0       0       0       0       0   \n",
       "3      4       0       0       0       0       0       0       0       0   \n",
       "4      0       0       0       0       0       0       0       0       0   \n",
       "\n",
       "   pixel8  ...  pixel774  pixel775  pixel776  pixel777  pixel778  pixel779  \\\n",
       "0       0  ...         0         0         0         0         0         0   \n",
       "1       0  ...         0         0         0         0         0         0   \n",
       "2       0  ...         0         0         0         0         0         0   \n",
       "3       0  ...         0         0         0         0         0         0   \n",
       "4       0  ...         0         0         0         0         0         0   \n",
       "\n",
       "   pixel780  pixel781  pixel782  pixel783  \n",
       "0         0         0         0         0  \n",
       "1         0         0         0         0  \n",
       "2         0         0         0         0  \n",
       "3         0         0         0         0  \n",
       "4         0         0         0         0  \n",
       "\n",
       "[5 rows x 785 columns]"
      ]
     },
     "execution_count": 6,
     "metadata": {},
     "output_type": "execute_result"
    }
   ],
   "source": [
    "# Check the first five row of training dataset\n",
    "train.head(5)"
   ]
  },
  {
   "cell_type": "markdown",
   "metadata": {},
   "source": [
    "From the above information, we can see there are 784 pixel columns for pixel and label is  the number which represents."
   ]
  },
  {
   "cell_type": "code",
   "execution_count": 7,
   "metadata": {},
   "outputs": [
    {
     "name": "stdout",
     "output_type": "stream",
     "text": [
      "[0, 1, 2, 3, 4, 5, 6, 7, 8, 9]\n"
     ]
    }
   ],
   "source": [
    "# Check how many unique number in the label column\n",
    "val=train['label'].unique()\n",
    "print(sorted(val))"
   ]
  },
  {
   "cell_type": "markdown",
   "metadata": {},
   "source": [
    "We can see there is 10 different numbers, 0 to 8, on the lable column."
   ]
  },
  {
   "cell_type": "code",
   "execution_count": 8,
   "metadata": {},
   "outputs": [
    {
     "data": {
      "text/plain": [
       "label       0\n",
       "pixel0      0\n",
       "pixel1      0\n",
       "pixel2      0\n",
       "pixel3      0\n",
       "           ..\n",
       "pixel779    0\n",
       "pixel780    0\n",
       "pixel781    0\n",
       "pixel782    0\n",
       "pixel783    0\n",
       "Length: 785, dtype: int64"
      ]
     },
     "execution_count": 8,
     "metadata": {},
     "output_type": "execute_result"
    }
   ],
   "source": [
    "# Check is any missing data in training dataset\n",
    "train.isnull().sum()"
   ]
  },
  {
   "cell_type": "markdown",
   "metadata": {},
   "source": [
    "From the above information, we can see there is no missing values in the training dataset."
   ]
  },
  {
   "cell_type": "code",
   "execution_count": 9,
   "metadata": {},
   "outputs": [],
   "source": [
    "# Sort out our taining set\n",
    "x=train.drop(['label'], axis=1)\n",
    "y=train['label']\n",
    "x_train, x_test, y_train, y_test=train_test_split(x, y, test_size=0.2, random_state=1)"
   ]
  },
  {
   "cell_type": "markdown",
   "metadata": {},
   "source": [
    "# 1. TensorFlow "
   ]
  },
  {
   "cell_type": "markdown",
   "metadata": {},
   "source": [
    "## Number of Hidden Layers\n",
    "\n",
    "Lower hidden layers model low-level structures, such as line segments of various shares and orientations. Intermediate hiffen layers combine these low-level structures to model intermediate-level structures, such as squares and circles. The highest hidden layeers and the output layer combine these intermediate structures to model high-level structure, such as face.  \n",
    "\n",
    "In this case, the lower hidden layers would be enough for mdoeling. "
   ]
  },
  {
   "cell_type": "markdown",
   "metadata": {},
   "source": [
    "## Number of Neurons per Hidden Layer\n",
    "\n",
    "So how many neurons should we use per hidden layer? \"The optimal size of the hidden layer is usually between the size of the input and size of the output layers\" - Jeff Heaton, author of Introduction to Neural Networks in Java offers a few more. \n",
    "\n",
    "We know the size of input neuros is 28x28 = 784 and the output neuros is 10, since there are 10 different numbers. So, the neuros we should use for each layer should between 10 and 784.   \n"
   ]
  },
  {
   "cell_type": "code",
   "execution_count": 10,
   "metadata": {},
   "outputs": [],
   "source": [
    "# Scale the data\n",
    "x_train = tf.keras.utils.normalize(x_train, axis=1)\n",
    "x_test = tf.keras.utils.normalize(x_test, axis=1)"
   ]
  },
  {
   "cell_type": "markdown",
   "metadata": {},
   "source": [
    "## Model 1 - 2 Layers with 128 nods"
   ]
  },
  {
   "cell_type": "code",
   "execution_count": 11,
   "metadata": {},
   "outputs": [],
   "source": [
    "# Model 1 - 2 layers with 128 nods\n",
    "m_1 = tf.keras.models.Sequential()\n",
    "m_1.add(tf.keras.layers.Flatten())\n",
    "m_1.add(tf.keras.layers.Dense(128, activation=tf.nn.relu))\n",
    "m_1.add(tf.keras.layers.Dense(128, activation=tf.nn.relu))\n",
    "m_1.add(tf.keras.layers.Dense(10, activation=tf.nn.softmax))\n",
    "m_1.compile(optimizer='adam', \n",
    "           loss='sparse_categorical_crossentropy',\n",
    "           metrics=['accuracy'])"
   ]
  },
  {
   "cell_type": "code",
   "execution_count": 12,
   "metadata": {},
   "outputs": [
    {
     "name": "stdout",
     "output_type": "stream",
     "text": [
      "Train on 33600 samples, validate on 8400 samples\n",
      "Epoch 1/30\n",
      "33600/33600 [==============================] - 3s 100us/sample - loss: 0.4179 - acc: 0.8838 - val_loss: 0.2167 - val_acc: 0.9352\n",
      "Epoch 2/30\n",
      "33600/33600 [==============================] - 3s 96us/sample - loss: 0.1795 - acc: 0.9454 - val_loss: 0.1566 - val_acc: 0.9556\n",
      "Epoch 3/30\n",
      "33600/33600 [==============================] - 3s 97us/sample - loss: 0.1263 - acc: 0.9625 - val_loss: 0.1277 - val_acc: 0.9612\n",
      "Epoch 4/30\n",
      "33600/33600 [==============================] - 3s 97us/sample - loss: 0.0971 - acc: 0.9703 - val_loss: 0.1141 - val_acc: 0.9657\n",
      "Epoch 5/30\n",
      "33600/33600 [==============================] - 3s 97us/sample - loss: 0.0747 - acc: 0.9769 - val_loss: 0.1172 - val_acc: 0.9657\n",
      "Epoch 6/30\n",
      "33600/33600 [==============================] - 3s 97us/sample - loss: 0.0593 - acc: 0.9809 - val_loss: 0.0990 - val_acc: 0.9685\n",
      "Epoch 7/30\n",
      "33600/33600 [==============================] - 3s 98us/sample - loss: 0.0469 - acc: 0.9851 - val_loss: 0.1034 - val_acc: 0.9674\n",
      "Epoch 8/30\n",
      "33600/33600 [==============================] - 3s 97us/sample - loss: 0.0359 - acc: 0.9885 - val_loss: 0.0960 - val_acc: 0.9711\n",
      "Epoch 9/30\n",
      "33600/33600 [==============================] - 3s 99us/sample - loss: 0.0286 - acc: 0.9901 - val_loss: 0.0937 - val_acc: 0.9706\n",
      "Epoch 10/30\n",
      "33600/33600 [==============================] - 3s 98us/sample - loss: 0.0238 - acc: 0.9926 - val_loss: 0.0989 - val_acc: 0.9710\n",
      "Epoch 11/30\n",
      "33600/33600 [==============================] - 3s 98us/sample - loss: 0.0180 - acc: 0.9945 - val_loss: 0.0933 - val_acc: 0.9751\n",
      "Epoch 12/30\n",
      "33600/33600 [==============================] - 3s 98us/sample - loss: 0.0151 - acc: 0.9952 - val_loss: 0.1183 - val_acc: 0.9719\n",
      "Epoch 13/30\n",
      "33600/33600 [==============================] - 3s 98us/sample - loss: 0.0138 - acc: 0.9960 - val_loss: 0.0946 - val_acc: 0.9767\n",
      "Epoch 14/30\n",
      "33600/33600 [==============================] - 3s 98us/sample - loss: 0.0107 - acc: 0.9965 - val_loss: 0.1127 - val_acc: 0.9706\n",
      "Epoch 15/30\n",
      "33600/33600 [==============================] - 3s 98us/sample - loss: 0.0095 - acc: 0.9970 - val_loss: 0.1161 - val_acc: 0.9720\n",
      "Epoch 16/30\n",
      "33600/33600 [==============================] - 3s 99us/sample - loss: 0.0089 - acc: 0.9971 - val_loss: 0.1158 - val_acc: 0.9736\n",
      "Epoch 17/30\n",
      "33600/33600 [==============================] - 3s 99us/sample - loss: 0.0087 - acc: 0.9971 - val_loss: 0.1251 - val_acc: 0.9727\n",
      "Epoch 18/30\n",
      "33600/33600 [==============================] - 3s 102us/sample - loss: 0.0064 - acc: 0.9978 - val_loss: 0.1201 - val_acc: 0.9731\n",
      "Epoch 19/30\n",
      "33600/33600 [==============================] - 3s 102us/sample - loss: 0.0068 - acc: 0.9977 - val_loss: 0.1263 - val_acc: 0.9742\n",
      "Epoch 20/30\n",
      "33600/33600 [==============================] - 3s 99us/sample - loss: 0.0067 - acc: 0.9980 - val_loss: 0.1296 - val_acc: 0.9738\n",
      "Epoch 21/30\n",
      "33600/33600 [==============================] - 3s 101us/sample - loss: 0.0096 - acc: 0.9968 - val_loss: 0.1243 - val_acc: 0.9740\n",
      "Epoch 22/30\n",
      "33600/33600 [==============================] - 3s 99us/sample - loss: 0.0033 - acc: 0.9990 - val_loss: 0.1290 - val_acc: 0.9743\n",
      "Epoch 23/30\n",
      "33600/33600 [==============================] - 3s 99us/sample - loss: 0.0055 - acc: 0.9983 - val_loss: 0.1579 - val_acc: 0.9710\n",
      "Epoch 24/30\n",
      "33600/33600 [==============================] - 3s 99us/sample - loss: 0.0082 - acc: 0.9974 - val_loss: 0.1286 - val_acc: 0.9756\n",
      "Epoch 25/30\n",
      "33600/33600 [==============================] - 3s 99us/sample - loss: 0.0031 - acc: 0.9993 - val_loss: 0.1245 - val_acc: 0.9763\n",
      "Epoch 26/30\n",
      "33600/33600 [==============================] - 3s 99us/sample - loss: 4.6263e-04 - acc: 1.0000 - val_loss: 0.1257 - val_acc: 0.9780\n",
      "Epoch 27/30\n",
      "33600/33600 [==============================] - 3s 100us/sample - loss: 1.3083e-04 - acc: 1.0000 - val_loss: 0.1267 - val_acc: 0.9774\n",
      "Epoch 28/30\n",
      "33600/33600 [==============================] - 3s 99us/sample - loss: 8.3281e-05 - acc: 1.0000 - val_loss: 0.1275 - val_acc: 0.9782\n",
      "Epoch 29/30\n",
      "33600/33600 [==============================] - 3s 99us/sample - loss: 0.0093 - acc: 0.9971 - val_loss: 0.1537 - val_acc: 0.9707\n",
      "Epoch 30/30\n",
      "33600/33600 [==============================] - 3s 99us/sample - loss: 0.0062 - acc: 0.9979 - val_loss: 0.1381 - val_acc: 0.9761\n",
      "Time spend: 0:01:40.504151\n"
     ]
    }
   ],
   "source": [
    "# Train the Model 1\n",
    "start=datetime.now()\n",
    "hist=m_1.fit(x_train.values, y_train.values, validation_data=(x_test.values, y_test.values), epochs=30)\n",
    "end=datetime.now()\n",
    "print(\"Time spend:\", end-start)"
   ]
  },
  {
   "cell_type": "code",
   "execution_count": 13,
   "metadata": {},
   "outputs": [
    {
     "data": {
      "image/png": "[encoded data removed]",
      "text/plain": [
       "<Figure size 432x288 with 2 Axes>"
      ]
     },
     "metadata": {
      "needs_background": "light"
     },
     "output_type": "display_data"
    }
   ],
   "source": [
    "import matplotlib.pyplot as plt\n",
    "\n",
    "fig, loss_ax = plt.subplots()\n",
    "acc_ax = loss_ax.twinx()\n",
    "\n",
    "loss_ax.plot(hist.history['loss'], 'y', label='train loss')\n",
    "loss_ax.plot(hist.history['val_loss'], 'r', label='test loss')\n",
    "loss_ax.set_xlabel('epoch')\n",
    "loss_ax.set_ylabel('loss')\n",
    "loss_ax.legend(loc='upper right')\n",
    "\n",
    "acc_ax.plot(hist.history['acc'], 'b', label='train acc')\n",
    "acc_ax.plot(hist.history['val_acc'], 'g', label='test acc')\n",
    "acc_ax.set_ylabel('accuracy')\n",
    "acc_ax.legend(loc='upper left')\n",
    "\n",
    "plt.show()"
   ]
  },
  {
   "cell_type": "markdown",
   "metadata": {},
   "source": [
    "## Model 2 - 2 Layers with 64 nods"
   ]
  },
  {
   "cell_type": "code",
   "execution_count": 14,
   "metadata": {},
   "outputs": [],
   "source": [
    "# Model 1 - 2 layers with 128 nods\n",
    "m_2 = tf.keras.models.Sequential()\n",
    "m_2.add(tf.keras.layers.Flatten())\n",
    "m_2.add(tf.keras.layers.Dense(64, activation=tf.nn.relu))\n",
    "m_2.add(tf.keras.layers.Dense(64, activation=tf.nn.relu))\n",
    "m_2.add(tf.keras.layers.Dense(10, activation=tf.nn.softmax))\n",
    "m_2.compile(optimizer='adam', \n",
    "           loss='sparse_categorical_crossentropy',\n",
    "           metrics=['accuracy'])"
   ]
  },
  {
   "cell_type": "code",
   "execution_count": 15,
   "metadata": {},
   "outputs": [
    {
     "name": "stdout",
     "output_type": "stream",
     "text": [
      "Train on 33600 samples, validate on 8400 samples\n",
      "Epoch 1/30\n",
      "33600/33600 [==============================] - 3s 98us/sample - loss: 0.5083 - acc: 0.8618 - val_loss: 0.2508 - val_acc: 0.9248\n",
      "Epoch 2/30\n",
      "33600/33600 [==============================] - 3s 89us/sample - loss: 0.2300 - acc: 0.9315 - val_loss: 0.1977 - val_acc: 0.9390\n",
      "Epoch 3/30\n",
      "33600/33600 [==============================] - 3s 89us/sample - loss: 0.1799 - acc: 0.9464 - val_loss: 0.1655 - val_acc: 0.9512\n",
      "Epoch 4/30\n",
      "33600/33600 [==============================] - 3s 88us/sample - loss: 0.1475 - acc: 0.9549 - val_loss: 0.1577 - val_acc: 0.9526\n",
      "Epoch 5/30\n",
      "33600/33600 [==============================] - 3s 89us/sample - loss: 0.1232 - acc: 0.9619 - val_loss: 0.1299 - val_acc: 0.9607\n",
      "Epoch 6/30\n",
      "33600/33600 [==============================] - 3s 88us/sample - loss: 0.1039 - acc: 0.9683 - val_loss: 0.1196 - val_acc: 0.9623\n",
      "Epoch 7/30\n",
      "33600/33600 [==============================] - 3s 90us/sample - loss: 0.0896 - acc: 0.9724 - val_loss: 0.1165 - val_acc: 0.9638\n",
      "Epoch 8/30\n",
      "33600/33600 [==============================] - 3s 88us/sample - loss: 0.0764 - acc: 0.9767 - val_loss: 0.1136 - val_acc: 0.9664\n",
      "Epoch 9/30\n",
      "33600/33600 [==============================] - 3s 88us/sample - loss: 0.0659 - acc: 0.9794 - val_loss: 0.1169 - val_acc: 0.9639\n",
      "Epoch 10/30\n",
      "33600/33600 [==============================] - 3s 88us/sample - loss: 0.0570 - acc: 0.9821 - val_loss: 0.1101 - val_acc: 0.9661\n",
      "Epoch 11/30\n",
      "33600/33600 [==============================] - 3s 88us/sample - loss: 0.0493 - acc: 0.9850 - val_loss: 0.1118 - val_acc: 0.9673\n",
      "Epoch 12/30\n",
      "33600/33600 [==============================] - 3s 88us/sample - loss: 0.0423 - acc: 0.9873 - val_loss: 0.1023 - val_acc: 0.9688\n",
      "Epoch 13/30\n",
      "33600/33600 [==============================] - 3s 88us/sample - loss: 0.0384 - acc: 0.9880 - val_loss: 0.1042 - val_acc: 0.9695\n",
      "Epoch 14/30\n",
      "33600/33600 [==============================] - 3s 89us/sample - loss: 0.0318 - acc: 0.9903 - val_loss: 0.1076 - val_acc: 0.9688\n",
      "Epoch 15/30\n",
      "33600/33600 [==============================] - 3s 91us/sample - loss: 0.0284 - acc: 0.9917 - val_loss: 0.1137 - val_acc: 0.9676\n",
      "Epoch 16/30\n",
      "33600/33600 [==============================] - 3s 96us/sample - loss: 0.0245 - acc: 0.9921 - val_loss: 0.1105 - val_acc: 0.9699\n",
      "Epoch 17/30\n",
      "33600/33600 [==============================] - 3s 89us/sample - loss: 0.0214 - acc: 0.9937 - val_loss: 0.1177 - val_acc: 0.9676\n",
      "Epoch 18/30\n",
      "33600/33600 [==============================] - 3s 88us/sample - loss: 0.0192 - acc: 0.9946 - val_loss: 0.1106 - val_acc: 0.9712\n",
      "Epoch 19/30\n",
      "33600/33600 [==============================] - 3s 88us/sample - loss: 0.0159 - acc: 0.9958 - val_loss: 0.1237 - val_acc: 0.9671\n",
      "Epoch 20/30\n",
      "33600/33600 [==============================] - 3s 88us/sample - loss: 0.0144 - acc: 0.9957 - val_loss: 0.1267 - val_acc: 0.9681\n",
      "Epoch 21/30\n",
      "33600/33600 [==============================] - 3s 88us/sample - loss: 0.0133 - acc: 0.9965 - val_loss: 0.1275 - val_acc: 0.9687\n",
      "Epoch 22/30\n",
      "33600/33600 [==============================] - 3s 88us/sample - loss: 0.0105 - acc: 0.9973 - val_loss: 0.1347 - val_acc: 0.9681\n",
      "Epoch 23/30\n",
      "33600/33600 [==============================] - 3s 89us/sample - loss: 0.0092 - acc: 0.9979 - val_loss: 0.1379 - val_acc: 0.9676\n",
      "Epoch 24/30\n",
      "33600/33600 [==============================] - 3s 88us/sample - loss: 0.0080 - acc: 0.9980 - val_loss: 0.1267 - val_acc: 0.9712\n",
      "Epoch 25/30\n",
      "33600/33600 [==============================] - 3s 91us/sample - loss: 0.0074 - acc: 0.9980 - val_loss: 0.1561 - val_acc: 0.9650\n",
      "Epoch 26/30\n",
      "33600/33600 [==============================] - 3s 89us/sample - loss: 0.0069 - acc: 0.9984 - val_loss: 0.1408 - val_acc: 0.9705\n",
      "Epoch 27/30\n",
      "33600/33600 [==============================] - 3s 89us/sample - loss: 0.0087 - acc: 0.9975 - val_loss: 0.1629 - val_acc: 0.9642\n",
      "Epoch 28/30\n",
      "33600/33600 [==============================] - 3s 88us/sample - loss: 0.0075 - acc: 0.9976 - val_loss: 0.1420 - val_acc: 0.9702\n",
      "Epoch 29/30\n",
      "33600/33600 [==============================] - 3s 88us/sample - loss: 0.0036 - acc: 0.9993 - val_loss: 0.1461 - val_acc: 0.9704\n",
      "Epoch 30/30\n",
      "33600/33600 [==============================] - 3s 89us/sample - loss: 0.0061 - acc: 0.9979 - val_loss: 0.1609 - val_acc: 0.9668\n",
      "Time spend: 0:01:30.587816\n"
     ]
    }
   ],
   "source": [
    "# Train the Model 1\n",
    "start=datetime.now()\n",
    "hist=m_2.fit(x_train.values, y_train.values, validation_data=(x_test.values, y_test.values), epochs=30)\n",
    "end=datetime.now()\n",
    "print(\"Time spend:\", end-start)"
   ]
  },
  {
   "cell_type": "code",
   "execution_count": 16,
   "metadata": {},
   "outputs": [
    {
     "data": {
      "image/png": "[encoded data removed]",
      "text/plain": [
       "<Figure size 432x288 with 2 Axes>"
      ]
     },
     "metadata": {
      "needs_background": "light"
     },
     "output_type": "display_data"
    }
   ],
   "source": [
    "import matplotlib.pyplot as plt\n",
    "\n",
    "fig, loss_ax = plt.subplots()\n",
    "acc_ax = loss_ax.twinx()\n",
    "\n",
    "loss_ax.plot(hist.history['loss'], 'y', label='train loss')\n",
    "loss_ax.plot(hist.history['val_loss'], 'r', label='test loss')\n",
    "loss_ax.set_xlabel('epoch')\n",
    "loss_ax.set_ylabel('loss')\n",
    "loss_ax.legend(loc='upper right')\n",
    "\n",
    "acc_ax.plot(hist.history['acc'], 'b', label='train acc')\n",
    "acc_ax.plot(hist.history['val_acc'], 'g', label='test acc')\n",
    "acc_ax.set_ylabel('accuracy')\n",
    "acc_ax.legend(loc='upper left')\n",
    "\n",
    "plt.show()"
   ]
  },
  {
   "cell_type": "markdown",
   "metadata": {},
   "source": [
    "## Model 3 - 4 Layers with 128 nods"
   ]
  },
  {
   "cell_type": "code",
   "execution_count": 17,
   "metadata": {},
   "outputs": [],
   "source": [
    "# Model 3 - 4 layers with 128 nods\n",
    "m_3 = tf.keras.models.Sequential()\n",
    "m_3.add(tf.keras.layers.Flatten())\n",
    "m_3.add(tf.keras.layers.Dense(128, activation=tf.nn.relu))\n",
    "m_3.add(tf.keras.layers.Dense(128, activation=tf.nn.relu))\n",
    "m_3.add(tf.keras.layers.Dense(128, activation=tf.nn.relu))\n",
    "m_3.add(tf.keras.layers.Dense(128, activation=tf.nn.relu))\n",
    "m_3.add(tf.keras.layers.Dense(10, activation=tf.nn.softmax))\n",
    "m_3.compile(optimizer='adam', \n",
    "           loss='sparse_categorical_crossentropy',\n",
    "           metrics=['accuracy'])"
   ]
  },
  {
   "cell_type": "code",
   "execution_count": 18,
   "metadata": {},
   "outputs": [
    {
     "name": "stdout",
     "output_type": "stream",
     "text": [
      "Train on 33600 samples, validate on 8400 samples\n",
      "Epoch 1/30\n",
      "33600/33600 [==============================] - 4s 129us/sample - loss: 0.3898 - acc: 0.8806 - val_loss: 0.1819 - val_acc: 0.9440\n",
      "Epoch 2/30\n",
      "33600/33600 [==============================] - 4s 118us/sample - loss: 0.1475 - acc: 0.9543 - val_loss: 0.1266 - val_acc: 0.9623\n",
      "Epoch 3/30\n",
      "33600/33600 [==============================] - 4s 118us/sample - loss: 0.1018 - acc: 0.9674 - val_loss: 0.1152 - val_acc: 0.9638\n",
      "Epoch 4/30\n",
      "33600/33600 [==============================] - 4s 118us/sample - loss: 0.0787 - acc: 0.9756 - val_loss: 0.1046 - val_acc: 0.9688\n",
      "Epoch 5/30\n",
      "33600/33600 [==============================] - 4s 118us/sample - loss: 0.0644 - acc: 0.9791 - val_loss: 0.1189 - val_acc: 0.9675\n",
      "Epoch 6/30\n",
      "33600/33600 [==============================] - 4s 118us/sample - loss: 0.0507 - acc: 0.9838 - val_loss: 0.0935 - val_acc: 0.9725\n",
      "Epoch 7/30\n",
      "33600/33600 [==============================] - 4s 118us/sample - loss: 0.0416 - acc: 0.9861 - val_loss: 0.1161 - val_acc: 0.9668\n",
      "Epoch 8/30\n",
      "33600/33600 [==============================] - 4s 118us/sample - loss: 0.0363 - acc: 0.9884 - val_loss: 0.1026 - val_acc: 0.9726\n",
      "Epoch 9/30\n",
      "33600/33600 [==============================] - 4s 118us/sample - loss: 0.0291 - acc: 0.9904 - val_loss: 0.1023 - val_acc: 0.9745\n",
      "Epoch 10/30\n",
      "33600/33600 [==============================] - 4s 120us/sample - loss: 0.0264 - acc: 0.9918 - val_loss: 0.1207 - val_acc: 0.9706\n",
      "Epoch 11/30\n",
      "33600/33600 [==============================] - 4s 123us/sample - loss: 0.0255 - acc: 0.9919 - val_loss: 0.1125 - val_acc: 0.9733\n",
      "Epoch 12/30\n",
      "33600/33600 [==============================] - 4s 119us/sample - loss: 0.0244 - acc: 0.9921 - val_loss: 0.0999 - val_acc: 0.9751\n",
      "Epoch 13/30\n",
      "33600/33600 [==============================] - 4s 118us/sample - loss: 0.0196 - acc: 0.9935 - val_loss: 0.1128 - val_acc: 0.9735\n",
      "Epoch 14/30\n",
      "33600/33600 [==============================] - 4s 118us/sample - loss: 0.0174 - acc: 0.9943 - val_loss: 0.1409 - val_acc: 0.9704\n",
      "Epoch 15/30\n",
      "33600/33600 [==============================] - 4s 119us/sample - loss: 0.0173 - acc: 0.9941 - val_loss: 0.1320 - val_acc: 0.9720\n",
      "Epoch 16/30\n",
      "33600/33600 [==============================] - 4s 119us/sample - loss: 0.0144 - acc: 0.9954 - val_loss: 0.1257 - val_acc: 0.9736\n",
      "Epoch 17/30\n",
      "33600/33600 [==============================] - 4s 118us/sample - loss: 0.0163 - acc: 0.9946 - val_loss: 0.1336 - val_acc: 0.9729\n",
      "Epoch 18/30\n",
      "33600/33600 [==============================] - 4s 118us/sample - loss: 0.0144 - acc: 0.9956 - val_loss: 0.1191 - val_acc: 0.9732\n",
      "Epoch 19/30\n",
      "33600/33600 [==============================] - 4s 118us/sample - loss: 0.0127 - acc: 0.9961 - val_loss: 0.1172 - val_acc: 0.9757\n",
      "Epoch 20/30\n",
      "33600/33600 [==============================] - 4s 118us/sample - loss: 0.0125 - acc: 0.9967 - val_loss: 0.1317 - val_acc: 0.9740\n",
      "Epoch 21/30\n",
      "33600/33600 [==============================] - 4s 120us/sample - loss: 0.0120 - acc: 0.9960 - val_loss: 0.1489 - val_acc: 0.9726\n",
      "Epoch 22/30\n",
      "33600/33600 [==============================] - 4s 119us/sample - loss: 0.0122 - acc: 0.9962 - val_loss: 0.1287 - val_acc: 0.9723\n",
      "Epoch 23/30\n",
      "33600/33600 [==============================] - 4s 119us/sample - loss: 0.0135 - acc: 0.9958 - val_loss: 0.1309 - val_acc: 0.9738\n",
      "Epoch 24/30\n",
      "33600/33600 [==============================] - 4s 118us/sample - loss: 0.0086 - acc: 0.9973 - val_loss: 0.1468 - val_acc: 0.9695\n",
      "Epoch 25/30\n",
      "33600/33600 [==============================] - 4s 118us/sample - loss: 0.0123 - acc: 0.9960 - val_loss: 0.1192 - val_acc: 0.9762\n",
      "Epoch 26/30\n",
      "33600/33600 [==============================] - 4s 119us/sample - loss: 0.0096 - acc: 0.9971 - val_loss: 0.1465 - val_acc: 0.9708\n",
      "Epoch 27/30\n",
      "33600/33600 [==============================] - 4s 124us/sample - loss: 0.0121 - acc: 0.9961 - val_loss: 0.1370 - val_acc: 0.9735\n",
      "Epoch 28/30\n",
      "33600/33600 [==============================] - 4s 124us/sample - loss: 0.0072 - acc: 0.9977 - val_loss: 0.1195 - val_acc: 0.9792\n",
      "Epoch 29/30\n",
      "33600/33600 [==============================] - 4s 118us/sample - loss: 0.0099 - acc: 0.9968 - val_loss: 0.1405 - val_acc: 0.9769\n",
      "Epoch 30/30\n",
      "33600/33600 [==============================] - 4s 121us/sample - loss: 0.0097 - acc: 0.9971 - val_loss: 0.1462 - val_acc: 0.9743\n",
      "Time spend: 0:02:01.134671\n"
     ]
    }
   ],
   "source": [
    "# Train the Model 3\n",
    "start=datetime.now()\n",
    "hist=m_3.fit(x_train.values, y_train.values, validation_data=(x_test.values, y_test.values), epochs=30)\n",
    "end=datetime.now()\n",
    "print(\"Time spend:\", end-start)"
   ]
  },
  {
   "cell_type": "code",
   "execution_count": 19,
   "metadata": {},
   "outputs": [
    {
     "data": {
      "image/png": "[encoded data removed]",
      "text/plain": [
       "<Figure size 432x288 with 2 Axes>"
      ]
     },
     "metadata": {
      "needs_background": "light"
     },
     "output_type": "display_data"
    }
   ],
   "source": [
    "import matplotlib.pyplot as plt\n",
    "\n",
    "fig, loss_ax = plt.subplots()\n",
    "acc_ax = loss_ax.twinx()\n",
    "\n",
    "loss_ax.plot(hist.history['loss'], 'y', label='train loss')\n",
    "loss_ax.plot(hist.history['val_loss'], 'r', label='test loss')\n",
    "loss_ax.set_xlabel('epoch')\n",
    "loss_ax.set_ylabel('loss')\n",
    "loss_ax.legend(loc='upper right')\n",
    "\n",
    "acc_ax.plot(hist.history['acc'], 'b', label='train acc')\n",
    "acc_ax.plot(hist.history['val_acc'], 'g', label='test acc')\n",
    "acc_ax.set_ylabel('accuracy')\n",
    "acc_ax.legend(loc='upper left')\n",
    "\n",
    "plt.show()"
   ]
  },
  {
   "cell_type": "markdown",
   "metadata": {},
   "source": [
    "## Model 4 - 4 Layers with 64 nods"
   ]
  },
  {
   "cell_type": "code",
   "execution_count": 20,
   "metadata": {},
   "outputs": [],
   "source": [
    "# Model 4 - 4 layers with 64 nods\n",
    "m_4 = tf.keras.models.Sequential()\n",
    "m_4.add(tf.keras.layers.Flatten())\n",
    "m_4.add(tf.keras.layers.Dense(64, activation=tf.nn.relu))\n",
    "m_4.add(tf.keras.layers.Dense(64, activation=tf.nn.relu))\n",
    "m_4.add(tf.keras.layers.Dense(64, activation=tf.nn.relu))\n",
    "m_4.add(tf.keras.layers.Dense(64, activation=tf.nn.relu))\n",
    "m_4.add(tf.keras.layers.Dense(10, activation=tf.nn.softmax))\n",
    "m_4.compile(optimizer='adam', \n",
    "           loss='sparse_categorical_crossentropy',\n",
    "           metrics=['accuracy'])"
   ]
  },
  {
   "cell_type": "code",
   "execution_count": 21,
   "metadata": {},
   "outputs": [
    {
     "name": "stdout",
     "output_type": "stream",
     "text": [
      "Train on 33600 samples, validate on 8400 samples\n",
      "Epoch 1/30\n",
      "33600/33600 [==============================] - 5s 147us/sample - loss: 0.5079 - acc: 0.8412 - val_loss: 0.2488 - val_acc: 0.9240\n",
      "Epoch 2/30\n",
      "33600/33600 [==============================] - 4s 113us/sample - loss: 0.2085 - acc: 0.9358 - val_loss: 0.2227 - val_acc: 0.9312\n",
      "Epoch 3/30\n",
      "33600/33600 [==============================] - 4s 108us/sample - loss: 0.1540 - acc: 0.9518 - val_loss: 0.1595 - val_acc: 0.9513\n",
      "Epoch 4/30\n",
      "33600/33600 [==============================] - 4s 114us/sample - loss: 0.1178 - acc: 0.9632 - val_loss: 0.1482 - val_acc: 0.9520\n",
      "Epoch 5/30\n",
      "33600/33600 [==============================] - 4s 111us/sample - loss: 0.0931 - acc: 0.9704 - val_loss: 0.1178 - val_acc: 0.9645\n",
      "Epoch 6/30\n",
      "33600/33600 [==============================] - 4s 110us/sample - loss: 0.0773 - acc: 0.9754 - val_loss: 0.1042 - val_acc: 0.9685\n",
      "Epoch 7/30\n",
      "33600/33600 [==============================] - 4s 110us/sample - loss: 0.0621 - acc: 0.9804 - val_loss: 0.0938 - val_acc: 0.9720\n",
      "Epoch 8/30\n",
      "33600/33600 [==============================] - 4s 111us/sample - loss: 0.0527 - acc: 0.9833 - val_loss: 0.1122 - val_acc: 0.9663\n",
      "Epoch 9/30\n",
      "33600/33600 [==============================] - 4s 114us/sample - loss: 0.0469 - acc: 0.9846 - val_loss: 0.1131 - val_acc: 0.9681\n",
      "Epoch 10/30\n",
      "33600/33600 [==============================] - 4s 110us/sample - loss: 0.0386 - acc: 0.9875 - val_loss: 0.1163 - val_acc: 0.9680\n",
      "Epoch 11/30\n",
      "33600/33600 [==============================] - 4s 112us/sample - loss: 0.0360 - acc: 0.9875 - val_loss: 0.1270 - val_acc: 0.9660\n",
      "Epoch 12/30\n",
      "33600/33600 [==============================] - 4s 110us/sample - loss: 0.0305 - acc: 0.9901 - val_loss: 0.1437 - val_acc: 0.9626\n",
      "Epoch 13/30\n",
      "33600/33600 [==============================] - 4s 112us/sample - loss: 0.0283 - acc: 0.9904 - val_loss: 0.1228 - val_acc: 0.9718\n",
      "Epoch 14/30\n",
      "33600/33600 [==============================] - 4s 112us/sample - loss: 0.0284 - acc: 0.9903 - val_loss: 0.1153 - val_acc: 0.9718\n",
      "Epoch 15/30\n",
      "33600/33600 [==============================] - 4s 109us/sample - loss: 0.0210 - acc: 0.9931 - val_loss: 0.1258 - val_acc: 0.9702\n",
      "Epoch 16/30\n",
      "33600/33600 [==============================] - 4s 111us/sample - loss: 0.0212 - acc: 0.9931 - val_loss: 0.1174 - val_acc: 0.9713\n",
      "Epoch 17/30\n",
      "33600/33600 [==============================] - 4s 110us/sample - loss: 0.0221 - acc: 0.9929 - val_loss: 0.1304 - val_acc: 0.9712\n",
      "Epoch 18/30\n",
      "33600/33600 [==============================] - 4s 114us/sample - loss: 0.0188 - acc: 0.9936 - val_loss: 0.1466 - val_acc: 0.9676\n",
      "Epoch 19/30\n",
      "33600/33600 [==============================] - 4s 115us/sample - loss: 0.0174 - acc: 0.9945 - val_loss: 0.1714 - val_acc: 0.9636\n",
      "Epoch 20/30\n",
      "33600/33600 [==============================] - 4s 113us/sample - loss: 0.0147 - acc: 0.9950 - val_loss: 0.1308 - val_acc: 0.9724\n",
      "Epoch 21/30\n",
      "33600/33600 [==============================] - 4s 111us/sample - loss: 0.0172 - acc: 0.9944 - val_loss: 0.1463 - val_acc: 0.9710\n",
      "Epoch 22/30\n",
      "33600/33600 [==============================] - 4s 115us/sample - loss: 0.0165 - acc: 0.9948 - val_loss: 0.1451 - val_acc: 0.9719\n",
      "Epoch 23/30\n",
      "33600/33600 [==============================] - 4s 111us/sample - loss: 0.0132 - acc: 0.9951 - val_loss: 0.1408 - val_acc: 0.9715\n",
      "Epoch 24/30\n",
      "33600/33600 [==============================] - 4s 115us/sample - loss: 0.0129 - acc: 0.9956 - val_loss: 0.1746 - val_acc: 0.9671\n",
      "Epoch 25/30\n",
      "33600/33600 [==============================] - 4s 118us/sample - loss: 0.0150 - acc: 0.9950 - val_loss: 0.1453 - val_acc: 0.9721\n",
      "Epoch 26/30\n",
      "33600/33600 [==============================] - 4s 112us/sample - loss: 0.0125 - acc: 0.9957 - val_loss: 0.1472 - val_acc: 0.9704\n",
      "Epoch 27/30\n",
      "33600/33600 [==============================] - 4s 118us/sample - loss: 0.0128 - acc: 0.9958 - val_loss: 0.1460 - val_acc: 0.9726\n",
      "Epoch 28/30\n",
      "33600/33600 [==============================] - 4s 122us/sample - loss: 0.0107 - acc: 0.9965 - val_loss: 0.1635 - val_acc: 0.9708\n",
      "Epoch 29/30\n",
      "33600/33600 [==============================] - 4s 111us/sample - loss: 0.0127 - acc: 0.9960 - val_loss: 0.1604 - val_acc: 0.9698\n",
      "Epoch 30/30\n",
      "33600/33600 [==============================] - 4s 117us/sample - loss: 0.0083 - acc: 0.9968 - val_loss: 0.1502 - val_acc: 0.9744\n",
      "Time spend: 0:01:55.699393\n"
     ]
    }
   ],
   "source": [
    "# Train the Model 4\n",
    "start=datetime.now()\n",
    "hist=m_4.fit(x_train.values, y_train.values, validation_data=(x_test.values, y_test.values), epochs=30)\n",
    "end=datetime.now()\n",
    "print(\"Time spend:\", end-start)"
   ]
  },
  {
   "cell_type": "code",
   "execution_count": 22,
   "metadata": {},
   "outputs": [
    {
     "data": {
      "image/png": "[encoded data removed]",
      "text/plain": [
       "<Figure size 432x288 with 2 Axes>"
      ]
     },
     "metadata": {
      "needs_background": "light"
     },
     "output_type": "display_data"
    }
   ],
   "source": [
    "import matplotlib.pyplot as plt\n",
    "\n",
    "fig, loss_ax = plt.subplots()\n",
    "acc_ax = loss_ax.twinx()\n",
    "\n",
    "loss_ax.plot(hist.history['loss'], 'y', label='train loss')\n",
    "loss_ax.plot(hist.history['val_loss'], 'r', label='test loss')\n",
    "loss_ax.set_xlabel('epoch')\n",
    "loss_ax.set_ylabel('loss')\n",
    "loss_ax.legend(loc='upper right')\n",
    "\n",
    "acc_ax.plot(hist.history['acc'], 'b', label='train acc')\n",
    "acc_ax.plot(hist.history['val_acc'], 'g', label='test acc')\n",
    "acc_ax.set_ylabel('accuracy')\n",
    "acc_ax.legend(loc='upper left')\n",
    "\n",
    "plt.show()"
   ]
  },
  {
   "cell_type": "markdown",
   "metadata": {},
   "source": [
    "# Model Comparision"
   ]
  },
  {
   "cell_type": "code",
   "execution_count": 25,
   "metadata": {},
   "outputs": [
    {
     "name": "stdout",
     "output_type": "stream",
     "text": [
      "     Model Layers Nodes per layer Train Accuracy Test Accuracy Processing Time\n",
      "0  Model_1      2             128         0.9979        0.9761  0:01:40.504151\n",
      "1  Model_2      2              64         0.9979        0.9668  0:01:30.587816\n",
      "2  Model_3      4             128         0.9971        0.9743  0:02:01.134671\n",
      "3  M0del_4      4              64         0.9968        0.9744  0:01:55.699393\n"
     ]
    }
   ],
   "source": [
    "data=[['Model_1', '2', '128', '0.9979', '0.9761', '0:01:40.504151' ], ['Model_2', '2', '64', '0.9979', '0.9668', '0:01:30.587816'], \n",
    "      ['Model_3', '4', '128', '0.9971', '0.9743', '0:02:01.134671'], ['M0del_4', '4', '64', '0.9968', '0.9744', '0:01:55.699393']]\n",
    "df=pd.DataFrame(data, columns=['Model', 'Layers', 'Nodes per layer', 'Train Accuracy', 'Test Accuracy' ,\n",
    "                               \"Processing Time\"])\n",
    "print(df)                               "
   ]
  },
  {
   "cell_type": "markdown",
   "metadata": {},
   "source": [
    "## Conclusion"
   ]
  },
  {
   "cell_type": "markdown",
   "metadata": {},
   "source": [
    "From the above information, I have some conclusions as below.\n",
    "\n",
    "* More layers more times: If the model has more layers, it would take more time to train the model.\n",
    "* More layers more nods doesn't guarantee with good test result. For instance, the model_3 has 4 layers and 128 nods which doesn't have the best accuracy rate comparing with model_1.\n",
    "\n",
    "Therefore, in order to find the optimize mode, we would need to find the model with the lowest loss function. A popular choice of loss function in TensorFlow programs is cross-entropy, also known as log-loss, which quantifies the difference between two probability distributions (the predictions and the labels). A perfect classification would result in a cross-entropy of 0, with the loss completely minimized.\n",
    "\n",
    "One of the optimization algorithm to minimize the loss function is Gradient descent optimization. Gradient descent optimization is a common method for finding the (local) minimum of a function by taking iterative steps along the gradient in a negative (descending) direction.\n"
   ]
  },
  {
   "cell_type": "markdown",
   "metadata": {},
   "source": [
    "# 2. Submission for Competition"
   ]
  },
  {
   "cell_type": "code",
   "execution_count": 27,
   "metadata": {},
   "outputs": [],
   "source": [
    "# Make predictions on the test features\n",
    "predictions = m_1.predict(test)"
   ]
  },
  {
   "cell_type": "code",
   "execution_count": 28,
   "metadata": {},
   "outputs": [],
   "source": [
    "#submissions\n",
    "\n",
    "submissions=pd.DataFrame({\"ImageId\": list(range(1,len(predictions)+1)),\n",
    "                         \"Label\": np.argmax(predictions, axis=1)})\n",
    "submissions.to_csv(\"MSDS_422_Assignemnt_6.csv\", index=False, header=True)"
   ]
  },
  {
   "cell_type": "markdown",
   "metadata": {},
   "source": [
    "![](Assignment_6_Sub_1.jpg)"
   ]
  },
  {
   "cell_type": "markdown",
   "metadata": {},
   "source": [
    "![](Assignment_6_Sub_1.jpg)"
   ]
  },
  {
   "cell_type": "code",
   "execution_count": null,
   "metadata": {},
   "outputs": [],
   "source": []
  }
 ],
 "metadata": {
  "kernelspec": {
   "display_name": "Python 3",
   "language": "python",
   "name": "python3"
  },
  "language_info": {
   "codemirror_mode": {
    "name": "ipython",
    "version": 3
   },
   "file_extension": ".py",
   "mimetype": "text/x-python",
   "name": "python",
   "nbconvert_exporter": "python",
   "pygments_lexer": "ipython3",
   "version": "3.7.0"
  }
 },
 "nbformat": 4,
 "nbformat_minor": 2
}
